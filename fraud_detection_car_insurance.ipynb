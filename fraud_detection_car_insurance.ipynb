{
 "cells": [
  {
   "cell_type": "markdown",
   "metadata": {},
   "source": [
    "# **Fraud Detection**"
   ]
  },
  {
   "cell_type": "markdown",
   "metadata": {},
   "source": [
    "# **Data Description**"
   ]
  },
  {
   "cell_type": "markdown",
   "metadata": {},
   "source": [
    "Penipuan asuransi kendaraan melibatkan konspirasi untuk membuat klaim palsu yang melibatkan kerusakan kendaraan secara berlebihan atau cedera pengendara setelah kecelakaan. Beberapa contoh umum termasuk kecelakaan bertahap di mana penipu sengaja \"mengatur\" agar kecelakaan terjadi; penggunaan penumpang bayangan di mana orang-orang yang bahkan tidak berada di lokasi kecelakaan mengklaim telah menderita cedera parah, dan membuat klaim cedera pribadi palsu di mana cedera pribadi terlalu dibesar-besarkan. Untuk itu kita akan mencoba membuat model ML untuk mendeteksi kasus penipuan (fraud) saat memgklaim asuransi dan mana yang bukan kasus penipuan (no fraud)"
   ]
  },
  {
   "cell_type": "markdown",
   "metadata": {},
   "source": [
    "# **Import Libraries**\n",
    "---"
   ]
  },
  {
   "cell_type": "code",
   "execution_count": 1,
   "metadata": {},
   "outputs": [],
   "source": [
    "import pandas as pd\n",
    "import numpy as np\n",
    "import sklearn\n",
    "import matplotlib.pyplot as plt\n",
    "from scipy import stats\n",
    "import seaborn as sns\n",
    "from sklearn.model_selection import train_test_split \n",
    "import scipy.stats as stats\n",
    "from sklearn.linear_model import LogisticRegression \n",
    "from sklearn.tree import DecisionTreeClassifier\n",
    "from sklearn.ensemble import RandomForestClassifier\n",
    "from sklearn.neighbors import KNeighborsClassifier\n",
    "from sklearn.model_selection import GridSearchCV\n",
    "from sklearn.metrics import classification_report, confusion_matrix\n",
    "from imblearn.over_sampling import SMOTE \n",
    "import warnings\n",
    "warnings.filterwarnings('ignore')\n",
    "from sklearn.pipeline import make_pipeline\n",
    "from sklearn.compose import ColumnTransformer \n",
    "import pickle"
   ]
  },
  {
   "cell_type": "markdown",
   "metadata": {},
   "source": [
    "# **Loading Data**\n",
    "---"
   ]
  },
  {
   "cell_type": "code",
   "execution_count": 2,
   "metadata": {},
   "outputs": [],
   "source": [
    "pd.set_option('display.max_columns', None) # kode untuk melihat seluruh nama kolom "
   ]
  },
  {
   "cell_type": "code",
   "execution_count": 4,
   "metadata": {},
   "outputs": [
    {
     "data": {
      "text/html": [
       "<div>\n",
       "<style scoped>\n",
       "    .dataframe tbody tr th:only-of-type {\n",
       "        vertical-align: middle;\n",
       "    }\n",
       "\n",
       "    .dataframe tbody tr th {\n",
       "        vertical-align: top;\n",
       "    }\n",
       "\n",
       "    .dataframe thead th {\n",
       "        text-align: right;\n",
       "    }\n",
       "</style>\n",
       "<table border=\"1\" class=\"dataframe\">\n",
       "  <thead>\n",
       "    <tr style=\"text-align: right;\">\n",
       "      <th></th>\n",
       "      <th>Month</th>\n",
       "      <th>WeekOfMonth</th>\n",
       "      <th>DayOfWeek</th>\n",
       "      <th>Make</th>\n",
       "      <th>AccidentArea</th>\n",
       "      <th>DayOfWeekClaimed</th>\n",
       "      <th>MonthClaimed</th>\n",
       "      <th>WeekOfMonthClaimed</th>\n",
       "      <th>Sex</th>\n",
       "      <th>MaritalStatus</th>\n",
       "      <th>Age</th>\n",
       "      <th>Fault</th>\n",
       "      <th>PolicyType</th>\n",
       "      <th>VehicleCategory</th>\n",
       "      <th>VehiclePrice</th>\n",
       "      <th>FraudFound_P</th>\n",
       "      <th>PolicyNumber</th>\n",
       "      <th>RepNumber</th>\n",
       "      <th>Deductible</th>\n",
       "      <th>DriverRating</th>\n",
       "      <th>Days_Policy_Accident</th>\n",
       "      <th>Days_Policy_Claim</th>\n",
       "      <th>PastNumberOfClaims</th>\n",
       "      <th>AgeOfVehicle</th>\n",
       "      <th>AgeOfPolicyHolder</th>\n",
       "      <th>PoliceReportFiled</th>\n",
       "      <th>WitnessPresent</th>\n",
       "      <th>AgentType</th>\n",
       "      <th>NumberOfSuppliments</th>\n",
       "      <th>AddressChange_Claim</th>\n",
       "      <th>NumberOfCars</th>\n",
       "      <th>Year</th>\n",
       "      <th>BasePolicy</th>\n",
       "    </tr>\n",
       "  </thead>\n",
       "  <tbody>\n",
       "    <tr>\n",
       "      <th>0</th>\n",
       "      <td>Dec</td>\n",
       "      <td>5</td>\n",
       "      <td>Wednesday</td>\n",
       "      <td>Honda</td>\n",
       "      <td>Urban</td>\n",
       "      <td>Tuesday</td>\n",
       "      <td>Jan</td>\n",
       "      <td>1</td>\n",
       "      <td>Female</td>\n",
       "      <td>Single</td>\n",
       "      <td>21</td>\n",
       "      <td>Policy Holder</td>\n",
       "      <td>Sport - Liability</td>\n",
       "      <td>Sport</td>\n",
       "      <td>more than 69000</td>\n",
       "      <td>0</td>\n",
       "      <td>1</td>\n",
       "      <td>12</td>\n",
       "      <td>300</td>\n",
       "      <td>1</td>\n",
       "      <td>more than 30</td>\n",
       "      <td>more than 30</td>\n",
       "      <td>none</td>\n",
       "      <td>3 years</td>\n",
       "      <td>26 to 30</td>\n",
       "      <td>No</td>\n",
       "      <td>No</td>\n",
       "      <td>External</td>\n",
       "      <td>none</td>\n",
       "      <td>1 year</td>\n",
       "      <td>3 to 4</td>\n",
       "      <td>1994</td>\n",
       "      <td>Liability</td>\n",
       "    </tr>\n",
       "    <tr>\n",
       "      <th>1</th>\n",
       "      <td>Jan</td>\n",
       "      <td>3</td>\n",
       "      <td>Wednesday</td>\n",
       "      <td>Honda</td>\n",
       "      <td>Urban</td>\n",
       "      <td>Monday</td>\n",
       "      <td>Jan</td>\n",
       "      <td>4</td>\n",
       "      <td>Male</td>\n",
       "      <td>Single</td>\n",
       "      <td>34</td>\n",
       "      <td>Policy Holder</td>\n",
       "      <td>Sport - Collision</td>\n",
       "      <td>Sport</td>\n",
       "      <td>more than 69000</td>\n",
       "      <td>0</td>\n",
       "      <td>2</td>\n",
       "      <td>15</td>\n",
       "      <td>400</td>\n",
       "      <td>4</td>\n",
       "      <td>more than 30</td>\n",
       "      <td>more than 30</td>\n",
       "      <td>none</td>\n",
       "      <td>6 years</td>\n",
       "      <td>31 to 35</td>\n",
       "      <td>Yes</td>\n",
       "      <td>No</td>\n",
       "      <td>External</td>\n",
       "      <td>none</td>\n",
       "      <td>no change</td>\n",
       "      <td>1 vehicle</td>\n",
       "      <td>1994</td>\n",
       "      <td>Collision</td>\n",
       "    </tr>\n",
       "    <tr>\n",
       "      <th>2</th>\n",
       "      <td>Oct</td>\n",
       "      <td>5</td>\n",
       "      <td>Friday</td>\n",
       "      <td>Honda</td>\n",
       "      <td>Urban</td>\n",
       "      <td>Thursday</td>\n",
       "      <td>Nov</td>\n",
       "      <td>2</td>\n",
       "      <td>Male</td>\n",
       "      <td>Married</td>\n",
       "      <td>47</td>\n",
       "      <td>Policy Holder</td>\n",
       "      <td>Sport - Collision</td>\n",
       "      <td>Sport</td>\n",
       "      <td>more than 69000</td>\n",
       "      <td>0</td>\n",
       "      <td>3</td>\n",
       "      <td>7</td>\n",
       "      <td>400</td>\n",
       "      <td>3</td>\n",
       "      <td>more than 30</td>\n",
       "      <td>more than 30</td>\n",
       "      <td>1</td>\n",
       "      <td>7 years</td>\n",
       "      <td>41 to 50</td>\n",
       "      <td>No</td>\n",
       "      <td>No</td>\n",
       "      <td>External</td>\n",
       "      <td>none</td>\n",
       "      <td>no change</td>\n",
       "      <td>1 vehicle</td>\n",
       "      <td>1994</td>\n",
       "      <td>Collision</td>\n",
       "    </tr>\n",
       "    <tr>\n",
       "      <th>3</th>\n",
       "      <td>Jun</td>\n",
       "      <td>2</td>\n",
       "      <td>Saturday</td>\n",
       "      <td>Toyota</td>\n",
       "      <td>Rural</td>\n",
       "      <td>Friday</td>\n",
       "      <td>Jul</td>\n",
       "      <td>1</td>\n",
       "      <td>Male</td>\n",
       "      <td>Married</td>\n",
       "      <td>65</td>\n",
       "      <td>Third Party</td>\n",
       "      <td>Sedan - Liability</td>\n",
       "      <td>Sport</td>\n",
       "      <td>20000 to 29000</td>\n",
       "      <td>0</td>\n",
       "      <td>4</td>\n",
       "      <td>4</td>\n",
       "      <td>400</td>\n",
       "      <td>2</td>\n",
       "      <td>more than 30</td>\n",
       "      <td>more than 30</td>\n",
       "      <td>1</td>\n",
       "      <td>more than 7</td>\n",
       "      <td>51 to 65</td>\n",
       "      <td>Yes</td>\n",
       "      <td>No</td>\n",
       "      <td>External</td>\n",
       "      <td>more than 5</td>\n",
       "      <td>no change</td>\n",
       "      <td>1 vehicle</td>\n",
       "      <td>1994</td>\n",
       "      <td>Liability</td>\n",
       "    </tr>\n",
       "    <tr>\n",
       "      <th>4</th>\n",
       "      <td>Jan</td>\n",
       "      <td>5</td>\n",
       "      <td>Monday</td>\n",
       "      <td>Honda</td>\n",
       "      <td>Urban</td>\n",
       "      <td>Tuesday</td>\n",
       "      <td>Feb</td>\n",
       "      <td>2</td>\n",
       "      <td>Female</td>\n",
       "      <td>Single</td>\n",
       "      <td>27</td>\n",
       "      <td>Third Party</td>\n",
       "      <td>Sport - Collision</td>\n",
       "      <td>Sport</td>\n",
       "      <td>more than 69000</td>\n",
       "      <td>0</td>\n",
       "      <td>5</td>\n",
       "      <td>3</td>\n",
       "      <td>400</td>\n",
       "      <td>1</td>\n",
       "      <td>more than 30</td>\n",
       "      <td>more than 30</td>\n",
       "      <td>none</td>\n",
       "      <td>5 years</td>\n",
       "      <td>31 to 35</td>\n",
       "      <td>No</td>\n",
       "      <td>No</td>\n",
       "      <td>External</td>\n",
       "      <td>none</td>\n",
       "      <td>no change</td>\n",
       "      <td>1 vehicle</td>\n",
       "      <td>1994</td>\n",
       "      <td>Collision</td>\n",
       "    </tr>\n",
       "    <tr>\n",
       "      <th>...</th>\n",
       "      <td>...</td>\n",
       "      <td>...</td>\n",
       "      <td>...</td>\n",
       "      <td>...</td>\n",
       "      <td>...</td>\n",
       "      <td>...</td>\n",
       "      <td>...</td>\n",
       "      <td>...</td>\n",
       "      <td>...</td>\n",
       "      <td>...</td>\n",
       "      <td>...</td>\n",
       "      <td>...</td>\n",
       "      <td>...</td>\n",
       "      <td>...</td>\n",
       "      <td>...</td>\n",
       "      <td>...</td>\n",
       "      <td>...</td>\n",
       "      <td>...</td>\n",
       "      <td>...</td>\n",
       "      <td>...</td>\n",
       "      <td>...</td>\n",
       "      <td>...</td>\n",
       "      <td>...</td>\n",
       "      <td>...</td>\n",
       "      <td>...</td>\n",
       "      <td>...</td>\n",
       "      <td>...</td>\n",
       "      <td>...</td>\n",
       "      <td>...</td>\n",
       "      <td>...</td>\n",
       "      <td>...</td>\n",
       "      <td>...</td>\n",
       "      <td>...</td>\n",
       "    </tr>\n",
       "    <tr>\n",
       "      <th>15415</th>\n",
       "      <td>Nov</td>\n",
       "      <td>4</td>\n",
       "      <td>Friday</td>\n",
       "      <td>Toyota</td>\n",
       "      <td>Urban</td>\n",
       "      <td>Tuesday</td>\n",
       "      <td>Nov</td>\n",
       "      <td>5</td>\n",
       "      <td>Male</td>\n",
       "      <td>Married</td>\n",
       "      <td>35</td>\n",
       "      <td>Policy Holder</td>\n",
       "      <td>Sedan - Collision</td>\n",
       "      <td>Sedan</td>\n",
       "      <td>20000 to 29000</td>\n",
       "      <td>1</td>\n",
       "      <td>15416</td>\n",
       "      <td>5</td>\n",
       "      <td>400</td>\n",
       "      <td>4</td>\n",
       "      <td>more than 30</td>\n",
       "      <td>more than 30</td>\n",
       "      <td>2 to 4</td>\n",
       "      <td>6 years</td>\n",
       "      <td>31 to 35</td>\n",
       "      <td>No</td>\n",
       "      <td>No</td>\n",
       "      <td>External</td>\n",
       "      <td>none</td>\n",
       "      <td>no change</td>\n",
       "      <td>1 vehicle</td>\n",
       "      <td>1996</td>\n",
       "      <td>Collision</td>\n",
       "    </tr>\n",
       "    <tr>\n",
       "      <th>15416</th>\n",
       "      <td>Nov</td>\n",
       "      <td>5</td>\n",
       "      <td>Thursday</td>\n",
       "      <td>Pontiac</td>\n",
       "      <td>Urban</td>\n",
       "      <td>Friday</td>\n",
       "      <td>Dec</td>\n",
       "      <td>1</td>\n",
       "      <td>Male</td>\n",
       "      <td>Married</td>\n",
       "      <td>30</td>\n",
       "      <td>Policy Holder</td>\n",
       "      <td>Sedan - Liability</td>\n",
       "      <td>Sport</td>\n",
       "      <td>30000 to 39000</td>\n",
       "      <td>0</td>\n",
       "      <td>15417</td>\n",
       "      <td>11</td>\n",
       "      <td>400</td>\n",
       "      <td>3</td>\n",
       "      <td>more than 30</td>\n",
       "      <td>more than 30</td>\n",
       "      <td>more than 4</td>\n",
       "      <td>6 years</td>\n",
       "      <td>31 to 35</td>\n",
       "      <td>No</td>\n",
       "      <td>No</td>\n",
       "      <td>External</td>\n",
       "      <td>more than 5</td>\n",
       "      <td>no change</td>\n",
       "      <td>3 to 4</td>\n",
       "      <td>1996</td>\n",
       "      <td>Liability</td>\n",
       "    </tr>\n",
       "    <tr>\n",
       "      <th>15417</th>\n",
       "      <td>Nov</td>\n",
       "      <td>5</td>\n",
       "      <td>Thursday</td>\n",
       "      <td>Toyota</td>\n",
       "      <td>Rural</td>\n",
       "      <td>Friday</td>\n",
       "      <td>Dec</td>\n",
       "      <td>1</td>\n",
       "      <td>Male</td>\n",
       "      <td>Single</td>\n",
       "      <td>24</td>\n",
       "      <td>Policy Holder</td>\n",
       "      <td>Sedan - Collision</td>\n",
       "      <td>Sedan</td>\n",
       "      <td>20000 to 29000</td>\n",
       "      <td>1</td>\n",
       "      <td>15418</td>\n",
       "      <td>4</td>\n",
       "      <td>400</td>\n",
       "      <td>4</td>\n",
       "      <td>more than 30</td>\n",
       "      <td>more than 30</td>\n",
       "      <td>more than 4</td>\n",
       "      <td>5 years</td>\n",
       "      <td>26 to 30</td>\n",
       "      <td>No</td>\n",
       "      <td>No</td>\n",
       "      <td>External</td>\n",
       "      <td>1 to 2</td>\n",
       "      <td>no change</td>\n",
       "      <td>1 vehicle</td>\n",
       "      <td>1996</td>\n",
       "      <td>Collision</td>\n",
       "    </tr>\n",
       "    <tr>\n",
       "      <th>15418</th>\n",
       "      <td>Dec</td>\n",
       "      <td>1</td>\n",
       "      <td>Monday</td>\n",
       "      <td>Toyota</td>\n",
       "      <td>Urban</td>\n",
       "      <td>Thursday</td>\n",
       "      <td>Dec</td>\n",
       "      <td>2</td>\n",
       "      <td>Female</td>\n",
       "      <td>Married</td>\n",
       "      <td>34</td>\n",
       "      <td>Third Party</td>\n",
       "      <td>Sedan - All Perils</td>\n",
       "      <td>Sedan</td>\n",
       "      <td>20000 to 29000</td>\n",
       "      <td>0</td>\n",
       "      <td>15419</td>\n",
       "      <td>6</td>\n",
       "      <td>400</td>\n",
       "      <td>4</td>\n",
       "      <td>more than 30</td>\n",
       "      <td>more than 30</td>\n",
       "      <td>none</td>\n",
       "      <td>2 years</td>\n",
       "      <td>31 to 35</td>\n",
       "      <td>No</td>\n",
       "      <td>No</td>\n",
       "      <td>External</td>\n",
       "      <td>more than 5</td>\n",
       "      <td>no change</td>\n",
       "      <td>1 vehicle</td>\n",
       "      <td>1996</td>\n",
       "      <td>All Perils</td>\n",
       "    </tr>\n",
       "    <tr>\n",
       "      <th>15419</th>\n",
       "      <td>Dec</td>\n",
       "      <td>2</td>\n",
       "      <td>Wednesday</td>\n",
       "      <td>Toyota</td>\n",
       "      <td>Urban</td>\n",
       "      <td>Thursday</td>\n",
       "      <td>Dec</td>\n",
       "      <td>3</td>\n",
       "      <td>Male</td>\n",
       "      <td>Single</td>\n",
       "      <td>21</td>\n",
       "      <td>Policy Holder</td>\n",
       "      <td>Sedan - Collision</td>\n",
       "      <td>Sedan</td>\n",
       "      <td>20000 to 29000</td>\n",
       "      <td>1</td>\n",
       "      <td>15420</td>\n",
       "      <td>3</td>\n",
       "      <td>400</td>\n",
       "      <td>4</td>\n",
       "      <td>more than 30</td>\n",
       "      <td>more than 30</td>\n",
       "      <td>none</td>\n",
       "      <td>5 years</td>\n",
       "      <td>26 to 30</td>\n",
       "      <td>No</td>\n",
       "      <td>No</td>\n",
       "      <td>External</td>\n",
       "      <td>1 to 2</td>\n",
       "      <td>no change</td>\n",
       "      <td>1 vehicle</td>\n",
       "      <td>1996</td>\n",
       "      <td>Collision</td>\n",
       "    </tr>\n",
       "  </tbody>\n",
       "</table>\n",
       "<p>15420 rows × 33 columns</p>\n",
       "</div>"
      ],
      "text/plain": [
       "      Month  WeekOfMonth  DayOfWeek     Make AccidentArea DayOfWeekClaimed  \\\n",
       "0       Dec            5  Wednesday    Honda        Urban          Tuesday   \n",
       "1       Jan            3  Wednesday    Honda        Urban           Monday   \n",
       "2       Oct            5     Friday    Honda        Urban         Thursday   \n",
       "3       Jun            2   Saturday   Toyota        Rural           Friday   \n",
       "4       Jan            5     Monday    Honda        Urban          Tuesday   \n",
       "...     ...          ...        ...      ...          ...              ...   \n",
       "15415   Nov            4     Friday   Toyota        Urban          Tuesday   \n",
       "15416   Nov            5   Thursday  Pontiac        Urban           Friday   \n",
       "15417   Nov            5   Thursday   Toyota        Rural           Friday   \n",
       "15418   Dec            1     Monday   Toyota        Urban         Thursday   \n",
       "15419   Dec            2  Wednesday   Toyota        Urban         Thursday   \n",
       "\n",
       "      MonthClaimed  WeekOfMonthClaimed     Sex MaritalStatus  Age  \\\n",
       "0              Jan                   1  Female        Single   21   \n",
       "1              Jan                   4    Male        Single   34   \n",
       "2              Nov                   2    Male       Married   47   \n",
       "3              Jul                   1    Male       Married   65   \n",
       "4              Feb                   2  Female        Single   27   \n",
       "...            ...                 ...     ...           ...  ...   \n",
       "15415          Nov                   5    Male       Married   35   \n",
       "15416          Dec                   1    Male       Married   30   \n",
       "15417          Dec                   1    Male        Single   24   \n",
       "15418          Dec                   2  Female       Married   34   \n",
       "15419          Dec                   3    Male        Single   21   \n",
       "\n",
       "               Fault          PolicyType VehicleCategory     VehiclePrice  \\\n",
       "0      Policy Holder   Sport - Liability           Sport  more than 69000   \n",
       "1      Policy Holder   Sport - Collision           Sport  more than 69000   \n",
       "2      Policy Holder   Sport - Collision           Sport  more than 69000   \n",
       "3        Third Party   Sedan - Liability           Sport   20000 to 29000   \n",
       "4        Third Party   Sport - Collision           Sport  more than 69000   \n",
       "...              ...                 ...             ...              ...   \n",
       "15415  Policy Holder   Sedan - Collision           Sedan   20000 to 29000   \n",
       "15416  Policy Holder   Sedan - Liability           Sport   30000 to 39000   \n",
       "15417  Policy Holder   Sedan - Collision           Sedan   20000 to 29000   \n",
       "15418    Third Party  Sedan - All Perils           Sedan   20000 to 29000   \n",
       "15419  Policy Holder   Sedan - Collision           Sedan   20000 to 29000   \n",
       "\n",
       "       FraudFound_P  PolicyNumber  RepNumber  Deductible  DriverRating  \\\n",
       "0                 0             1         12         300             1   \n",
       "1                 0             2         15         400             4   \n",
       "2                 0             3          7         400             3   \n",
       "3                 0             4          4         400             2   \n",
       "4                 0             5          3         400             1   \n",
       "...             ...           ...        ...         ...           ...   \n",
       "15415             1         15416          5         400             4   \n",
       "15416             0         15417         11         400             3   \n",
       "15417             1         15418          4         400             4   \n",
       "15418             0         15419          6         400             4   \n",
       "15419             1         15420          3         400             4   \n",
       "\n",
       "      Days_Policy_Accident Days_Policy_Claim PastNumberOfClaims AgeOfVehicle  \\\n",
       "0             more than 30      more than 30               none      3 years   \n",
       "1             more than 30      more than 30               none      6 years   \n",
       "2             more than 30      more than 30                  1      7 years   \n",
       "3             more than 30      more than 30                  1  more than 7   \n",
       "4             more than 30      more than 30               none      5 years   \n",
       "...                    ...               ...                ...          ...   \n",
       "15415         more than 30      more than 30             2 to 4      6 years   \n",
       "15416         more than 30      more than 30        more than 4      6 years   \n",
       "15417         more than 30      more than 30        more than 4      5 years   \n",
       "15418         more than 30      more than 30               none      2 years   \n",
       "15419         more than 30      more than 30               none      5 years   \n",
       "\n",
       "      AgeOfPolicyHolder PoliceReportFiled WitnessPresent AgentType  \\\n",
       "0              26 to 30                No             No  External   \n",
       "1              31 to 35               Yes             No  External   \n",
       "2              41 to 50                No             No  External   \n",
       "3              51 to 65               Yes             No  External   \n",
       "4              31 to 35                No             No  External   \n",
       "...                 ...               ...            ...       ...   \n",
       "15415          31 to 35                No             No  External   \n",
       "15416          31 to 35                No             No  External   \n",
       "15417          26 to 30                No             No  External   \n",
       "15418          31 to 35                No             No  External   \n",
       "15419          26 to 30                No             No  External   \n",
       "\n",
       "      NumberOfSuppliments AddressChange_Claim NumberOfCars  Year  BasePolicy  \n",
       "0                    none              1 year       3 to 4  1994   Liability  \n",
       "1                    none           no change    1 vehicle  1994   Collision  \n",
       "2                    none           no change    1 vehicle  1994   Collision  \n",
       "3             more than 5           no change    1 vehicle  1994   Liability  \n",
       "4                    none           no change    1 vehicle  1994   Collision  \n",
       "...                   ...                 ...          ...   ...         ...  \n",
       "15415                none           no change    1 vehicle  1996   Collision  \n",
       "15416         more than 5           no change       3 to 4  1996   Liability  \n",
       "15417              1 to 2           no change    1 vehicle  1996   Collision  \n",
       "15418         more than 5           no change    1 vehicle  1996  All Perils  \n",
       "15419              1 to 2           no change    1 vehicle  1996   Collision  \n",
       "\n",
       "[15420 rows x 33 columns]"
      ]
     },
     "execution_count": 4,
     "metadata": {},
     "output_type": "execute_result"
    }
   ],
   "source": [
    "df=pd.read_csv('fraud_oracle.csv')\n",
    "df"
   ]
  },
  {
   "cell_type": "code",
   "execution_count": 5,
   "metadata": {},
   "outputs": [
    {
     "name": "stdout",
     "output_type": "stream",
     "text": [
      "<class 'pandas.core.frame.DataFrame'>\n",
      "RangeIndex: 15420 entries, 0 to 15419\n",
      "Data columns (total 33 columns):\n",
      " #   Column                Non-Null Count  Dtype \n",
      "---  ------                --------------  ----- \n",
      " 0   Month                 15420 non-null  object\n",
      " 1   WeekOfMonth           15420 non-null  int64 \n",
      " 2   DayOfWeek             15420 non-null  object\n",
      " 3   Make                  15420 non-null  object\n",
      " 4   AccidentArea          15420 non-null  object\n",
      " 5   DayOfWeekClaimed      15420 non-null  object\n",
      " 6   MonthClaimed          15420 non-null  object\n",
      " 7   WeekOfMonthClaimed    15420 non-null  int64 \n",
      " 8   Sex                   15420 non-null  object\n",
      " 9   MaritalStatus         15420 non-null  object\n",
      " 10  Age                   15420 non-null  int64 \n",
      " 11  Fault                 15420 non-null  object\n",
      " 12  PolicyType            15420 non-null  object\n",
      " 13  VehicleCategory       15420 non-null  object\n",
      " 14  VehiclePrice          15420 non-null  object\n",
      " 15  FraudFound_P          15420 non-null  int64 \n",
      " 16  PolicyNumber          15420 non-null  int64 \n",
      " 17  RepNumber             15420 non-null  int64 \n",
      " 18  Deductible            15420 non-null  int64 \n",
      " 19  DriverRating          15420 non-null  int64 \n",
      " 20  Days_Policy_Accident  15420 non-null  object\n",
      " 21  Days_Policy_Claim     15420 non-null  object\n",
      " 22  PastNumberOfClaims    15420 non-null  object\n",
      " 23  AgeOfVehicle          15420 non-null  object\n",
      " 24  AgeOfPolicyHolder     15420 non-null  object\n",
      " 25  PoliceReportFiled     15420 non-null  object\n",
      " 26  WitnessPresent        15420 non-null  object\n",
      " 27  AgentType             15420 non-null  object\n",
      " 28  NumberOfSuppliments   15420 non-null  object\n",
      " 29  AddressChange_Claim   15420 non-null  object\n",
      " 30  NumberOfCars          15420 non-null  object\n",
      " 31  Year                  15420 non-null  int64 \n",
      " 32  BasePolicy            15420 non-null  object\n",
      "dtypes: int64(9), object(24)\n",
      "memory usage: 3.9+ MB\n"
     ]
    }
   ],
   "source": [
    "df.info()"
   ]
  },
  {
   "cell_type": "code",
   "execution_count": 6,
   "metadata": {},
   "outputs": [
    {
     "data": {
      "text/html": [
       "<div>\n",
       "<style scoped>\n",
       "    .dataframe tbody tr th:only-of-type {\n",
       "        vertical-align: middle;\n",
       "    }\n",
       "\n",
       "    .dataframe tbody tr th {\n",
       "        vertical-align: top;\n",
       "    }\n",
       "\n",
       "    .dataframe thead th {\n",
       "        text-align: right;\n",
       "    }\n",
       "</style>\n",
       "<table border=\"1\" class=\"dataframe\">\n",
       "  <thead>\n",
       "    <tr style=\"text-align: right;\">\n",
       "      <th></th>\n",
       "      <th>WeekOfMonth</th>\n",
       "      <th>WeekOfMonthClaimed</th>\n",
       "      <th>Age</th>\n",
       "      <th>FraudFound_P</th>\n",
       "      <th>PolicyNumber</th>\n",
       "      <th>RepNumber</th>\n",
       "      <th>Deductible</th>\n",
       "      <th>DriverRating</th>\n",
       "      <th>Year</th>\n",
       "    </tr>\n",
       "  </thead>\n",
       "  <tbody>\n",
       "    <tr>\n",
       "      <th>count</th>\n",
       "      <td>15420.000000</td>\n",
       "      <td>15420.000000</td>\n",
       "      <td>15420.000000</td>\n",
       "      <td>15420.000000</td>\n",
       "      <td>15420.000000</td>\n",
       "      <td>15420.000000</td>\n",
       "      <td>15420.000000</td>\n",
       "      <td>15420.000000</td>\n",
       "      <td>15420.000000</td>\n",
       "    </tr>\n",
       "    <tr>\n",
       "      <th>mean</th>\n",
       "      <td>2.788586</td>\n",
       "      <td>2.693969</td>\n",
       "      <td>39.855707</td>\n",
       "      <td>0.059857</td>\n",
       "      <td>7710.500000</td>\n",
       "      <td>8.483268</td>\n",
       "      <td>407.704280</td>\n",
       "      <td>2.487808</td>\n",
       "      <td>1994.866472</td>\n",
       "    </tr>\n",
       "    <tr>\n",
       "      <th>std</th>\n",
       "      <td>1.287585</td>\n",
       "      <td>1.259115</td>\n",
       "      <td>13.492377</td>\n",
       "      <td>0.237230</td>\n",
       "      <td>4451.514911</td>\n",
       "      <td>4.599948</td>\n",
       "      <td>43.950998</td>\n",
       "      <td>1.119453</td>\n",
       "      <td>0.803313</td>\n",
       "    </tr>\n",
       "    <tr>\n",
       "      <th>min</th>\n",
       "      <td>1.000000</td>\n",
       "      <td>1.000000</td>\n",
       "      <td>0.000000</td>\n",
       "      <td>0.000000</td>\n",
       "      <td>1.000000</td>\n",
       "      <td>1.000000</td>\n",
       "      <td>300.000000</td>\n",
       "      <td>1.000000</td>\n",
       "      <td>1994.000000</td>\n",
       "    </tr>\n",
       "    <tr>\n",
       "      <th>25%</th>\n",
       "      <td>2.000000</td>\n",
       "      <td>2.000000</td>\n",
       "      <td>31.000000</td>\n",
       "      <td>0.000000</td>\n",
       "      <td>3855.750000</td>\n",
       "      <td>5.000000</td>\n",
       "      <td>400.000000</td>\n",
       "      <td>1.000000</td>\n",
       "      <td>1994.000000</td>\n",
       "    </tr>\n",
       "    <tr>\n",
       "      <th>50%</th>\n",
       "      <td>3.000000</td>\n",
       "      <td>3.000000</td>\n",
       "      <td>38.000000</td>\n",
       "      <td>0.000000</td>\n",
       "      <td>7710.500000</td>\n",
       "      <td>8.000000</td>\n",
       "      <td>400.000000</td>\n",
       "      <td>2.000000</td>\n",
       "      <td>1995.000000</td>\n",
       "    </tr>\n",
       "    <tr>\n",
       "      <th>75%</th>\n",
       "      <td>4.000000</td>\n",
       "      <td>4.000000</td>\n",
       "      <td>48.000000</td>\n",
       "      <td>0.000000</td>\n",
       "      <td>11565.250000</td>\n",
       "      <td>12.000000</td>\n",
       "      <td>400.000000</td>\n",
       "      <td>3.000000</td>\n",
       "      <td>1996.000000</td>\n",
       "    </tr>\n",
       "    <tr>\n",
       "      <th>max</th>\n",
       "      <td>5.000000</td>\n",
       "      <td>5.000000</td>\n",
       "      <td>80.000000</td>\n",
       "      <td>1.000000</td>\n",
       "      <td>15420.000000</td>\n",
       "      <td>16.000000</td>\n",
       "      <td>700.000000</td>\n",
       "      <td>4.000000</td>\n",
       "      <td>1996.000000</td>\n",
       "    </tr>\n",
       "  </tbody>\n",
       "</table>\n",
       "</div>"
      ],
      "text/plain": [
       "        WeekOfMonth  WeekOfMonthClaimed           Age  FraudFound_P  \\\n",
       "count  15420.000000        15420.000000  15420.000000  15420.000000   \n",
       "mean       2.788586            2.693969     39.855707      0.059857   \n",
       "std        1.287585            1.259115     13.492377      0.237230   \n",
       "min        1.000000            1.000000      0.000000      0.000000   \n",
       "25%        2.000000            2.000000     31.000000      0.000000   \n",
       "50%        3.000000            3.000000     38.000000      0.000000   \n",
       "75%        4.000000            4.000000     48.000000      0.000000   \n",
       "max        5.000000            5.000000     80.000000      1.000000   \n",
       "\n",
       "       PolicyNumber     RepNumber    Deductible  DriverRating          Year  \n",
       "count  15420.000000  15420.000000  15420.000000  15420.000000  15420.000000  \n",
       "mean    7710.500000      8.483268    407.704280      2.487808   1994.866472  \n",
       "std     4451.514911      4.599948     43.950998      1.119453      0.803313  \n",
       "min        1.000000      1.000000    300.000000      1.000000   1994.000000  \n",
       "25%     3855.750000      5.000000    400.000000      1.000000   1994.000000  \n",
       "50%     7710.500000      8.000000    400.000000      2.000000   1995.000000  \n",
       "75%    11565.250000     12.000000    400.000000      3.000000   1996.000000  \n",
       "max    15420.000000     16.000000    700.000000      4.000000   1996.000000  "
      ]
     },
     "execution_count": 6,
     "metadata": {},
     "output_type": "execute_result"
    }
   ],
   "source": [
    "df.describe()"
   ]
  },
  {
   "cell_type": "markdown",
   "metadata": {},
   "source": [
    "# **Data Cleaning**"
   ]
  },
  {
   "cell_type": "markdown",
   "metadata": {},
   "source": [
    "Berdasarkan describe data, terdapat anomali pada kolom Age, yaitu terdapat angka 0. Secara logika tidak ada umur 0. Oleh karena itu pada tahap ini umur 0 akan diganti dengan NaN, atau bisa dibilang 0 itu merupakan missing value. Nantinya missing value ini akan di handling pada tahap data preprocessing."
   ]
  },
  {
   "cell_type": "code",
   "execution_count": 6,
   "metadata": {},
   "outputs": [],
   "source": [
    "df['Age'].replace(to_replace={0: np.nan}, inplace=True)"
   ]
  },
  {
   "cell_type": "markdown",
   "metadata": {},
   "source": [
    "# **EDA**\n",
    "---"
   ]
  },
  {
   "cell_type": "code",
   "execution_count": 7,
   "metadata": {},
   "outputs": [],
   "source": [
    "df_eda = df.copy()"
   ]
  },
  {
   "cell_type": "code",
   "execution_count": 8,
   "metadata": {},
   "outputs": [
    {
     "name": "stdout",
     "output_type": "stream",
     "text": [
      "Numeric Columns: ['WeekOfMonth', 'WeekOfMonthClaimed', 'Age', 'FraudFound_P', 'PolicyNumber', 'RepNumber', 'Deductible', 'DriverRating', 'Year']\n",
      "Category columns: ['Month', 'DayOfWeek', 'Make', 'AccidentArea', 'DayOfWeekClaimed', 'MonthClaimed', 'Sex', 'MaritalStatus', 'Fault', 'PolicyType', 'VehicleCategory', 'VehiclePrice', 'Days_Policy_Accident', 'Days_Policy_Claim', 'PastNumberOfClaims', 'AgeOfVehicle', 'AgeOfPolicyHolder', 'PoliceReportFiled', 'WitnessPresent', 'AgentType', 'NumberOfSuppliments', 'AddressChange_Claim', 'NumberOfCars', 'BasePolicy']\n"
     ]
    }
   ],
   "source": [
    "print('Numeric Columns:',df.select_dtypes(include=np.number).columns.tolist())\n",
    "print('Category columns:', df.select_dtypes(include=['object']).columns.tolist())"
   ]
  },
  {
   "cell_type": "markdown",
   "metadata": {},
   "source": [
    "Data memiliki 9 kolom numerik dan 24 kolom kategori"
   ]
  },
  {
   "cell_type": "code",
   "execution_count": 9,
   "metadata": {},
   "outputs": [
    {
     "data": {
      "text/plain": [
       "0    14497\n",
       "1      923\n",
       "Name: FraudFound_P, dtype: int64"
      ]
     },
     "execution_count": 9,
     "metadata": {},
     "output_type": "execute_result"
    }
   ],
   "source": [
    "df_eda['FraudFound_P'].value_counts()"
   ]
  },
  {
   "cell_type": "code",
   "execution_count": 10,
   "metadata": {},
   "outputs": [],
   "source": [
    "# Merubah keterangan value pada kolom FraudFound\n",
    "\n",
    "df_eda['FraudFound_P'].replace({0: 'no fraud', 1: 'fraud'},inplace = True)"
   ]
  },
  {
   "cell_type": "code",
   "execution_count": 11,
   "metadata": {},
   "outputs": [
    {
     "data": {
      "image/png": "[encoded data removed]",
      "text/plain": [
       "<Figure size 360x432 with 1 Axes>"
      ]
     },
     "metadata": {},
     "output_type": "display_data"
    }
   ],
   "source": [
    "perc_tot_term_dep = df_eda['FraudFound_P'].value_counts()*100/len(df)\n",
    "\n",
    "perc_tot_term_dep.plot(kind='pie',\n",
    "            figsize=(5,6),\n",
    "            autopct='%1.1f%%',\n",
    "            startangle=45,\n",
    "            shadow=False)\n",
    "\n",
    "plt.title('Percentage of fraud and no fraud')\n",
    "plt.axis('equal')\n",
    "\n",
    "plt.show()"
   ]
  },
  {
   "cell_type": "markdown",
   "metadata": {},
   "source": [
    "Pada keselurahan data, fraud yang terjadi terbilang hanya sedikit, 6% dari total keseluruhan data."
   ]
  },
  {
   "cell_type": "code",
   "execution_count": 12,
   "metadata": {},
   "outputs": [],
   "source": [
    "df_eda_fraud = df_eda [df_eda ['FraudFound_P'] == 'fraud']"
   ]
  },
  {
   "cell_type": "code",
   "execution_count": 13,
   "metadata": {},
   "outputs": [
    {
     "data": {
      "text/plain": [
       "<AxesSubplot:xlabel='Year', ylabel='count'>"
      ]
     },
     "execution_count": 13,
     "metadata": {},
     "output_type": "execute_result"
    },
    {
     "data": {
      "image/png": "[encoded data removed]",
      "text/plain": [
       "<Figure size 1224x432 with 1 Axes>"
      ]
     },
     "metadata": {
      "needs_background": "light"
     },
     "output_type": "display_data"
    }
   ],
   "source": [
    "plt.figure(figsize = (17, 6))\n",
    "sns.countplot('Year', hue = 'FraudFound_P', data = df_eda_fraud)"
   ]
  },
  {
   "cell_type": "code",
   "execution_count": 14,
   "metadata": {},
   "outputs": [
    {
     "data": {
      "text/plain": [
       "Year  FraudFound_P\n",
       "1994  fraud           409\n",
       "1995  fraud           301\n",
       "1996  fraud           213\n",
       "Name: FraudFound_P, dtype: int64"
      ]
     },
     "execution_count": 14,
     "metadata": {},
     "output_type": "execute_result"
    }
   ],
   "source": [
    "df_eda_fraud.groupby(\"Year\")[\"FraudFound_P\"].value_counts()"
   ]
  },
  {
   "cell_type": "markdown",
   "metadata": {},
   "source": [
    "Dalam kurun waktu 3 tahun, yaitu tahun 1994-1996 terjadi penurunan kasus fraud."
   ]
  },
  {
   "cell_type": "code",
   "execution_count": 15,
   "metadata": {},
   "outputs": [
    {
     "data": {
      "text/plain": [
       "<AxesSubplot:xlabel='AgentType', ylabel='count'>"
      ]
     },
     "execution_count": 15,
     "metadata": {},
     "output_type": "execute_result"
    },
    {
     "data": {
      "image/png": "[encoded data removed]",
      "text/plain": [
       "<Figure size 1224x432 with 1 Axes>"
      ]
     },
     "metadata": {
      "needs_background": "light"
     },
     "output_type": "display_data"
    }
   ],
   "source": [
    "plt.figure(figsize = (17, 6))\n",
    "sns.countplot('AgentType', hue = 'FraudFound_P', data = df_eda_fraud)"
   ]
  },
  {
   "cell_type": "markdown",
   "metadata": {},
   "source": [
    "Penipuan banyak dilakukan oleh client yang menggunakan agen dari external perusahaan. Hal ini terjadi bisa terjadi dikarenakan agen eksternal tidak terikat dengan perusahaan sehingga menyebabkan mereka berani untuk membantu client dalam melakukan penipuan."
   ]
  },
  {
   "cell_type": "code",
   "execution_count": 16,
   "metadata": {},
   "outputs": [
    {
     "data": {
      "text/plain": [
       "Text(0, 0.5, 'Range Price')"
      ]
     },
     "execution_count": 16,
     "metadata": {},
     "output_type": "execute_result"
    },
    {
     "data": {
      "image/png": "[encoded data removed]",
      "text/plain": [
       "<Figure size 432x432 with 1 Axes>"
      ]
     },
     "metadata": {
      "needs_background": "light"
     },
     "output_type": "display_data"
    }
   ],
   "source": [
    "range_price= df_eda_fraud.groupby(\"VehiclePrice\")[\"FraudFound_P\"].value_counts()\n",
    "range_price.plot(kind='barh', figsize=(6, 6), color='black')\n",
    "plt.xlabel('Total Fraud')\n",
    "plt.title('Vehicle Price on Fraud Case')\n",
    "plt.ylabel('Range Price')"
   ]
  },
  {
   "cell_type": "markdown",
   "metadata": {},
   "source": [
    "Kasus penipuan banyak terjadi di kendaraan yang memiliki kisaran harga $20000-$29000 dengan jumalah kasus > 400"
   ]
  },
  {
   "cell_type": "markdown",
   "metadata": {},
   "source": [
    "# **Data Preprocessing**\n",
    "---"
   ]
  },
  {
   "cell_type": "markdown",
   "metadata": {},
   "source": [
    "## Get Data Inference"
   ]
  },
  {
   "cell_type": "code",
   "execution_count": 17,
   "metadata": {},
   "outputs": [],
   "source": [
    "df_inf = df.sample(30, random_state=33)\n",
    "df_train_test = df.drop(df_inf.index)"
   ]
  },
  {
   "cell_type": "code",
   "execution_count": 18,
   "metadata": {},
   "outputs": [],
   "source": [
    "df_train_test.reset_index(drop=True, inplace=True) \n",
    "df_inf.reset_index(drop=True, inplace=True) "
   ]
  },
  {
   "cell_type": "markdown",
   "metadata": {},
   "source": [
    "## Split The Data"
   ]
  },
  {
   "cell_type": "code",
   "execution_count": 19,
   "metadata": {},
   "outputs": [],
   "source": [
    "# Menjadikan kolom FraudFound sebagai label/target yang akan di prediksi\n",
    "X = df_train_test.drop(['FraudFound_P'], axis=1)\n",
    "y = df_train_test['FraudFound_P']"
   ]
  },
  {
   "cell_type": "code",
   "execution_count": 20,
   "metadata": {},
   "outputs": [
    {
     "name": "stdout",
     "output_type": "stream",
     "text": [
      "(12312, 32)\n",
      "(3078, 32)\n"
     ]
    }
   ],
   "source": [
    "X_train, X_test, y_train, y_test = train_test_split(X, y, test_size=0.20, random_state=33)\n",
    "\n",
    "print(X_train.shape)\n",
    "print(X_test.shape)"
   ]
  },
  {
   "cell_type": "markdown",
   "metadata": {},
   "source": [
    "## Outliers Handling"
   ]
  },
  {
   "cell_type": "code",
   "execution_count": 21,
   "metadata": {},
   "outputs": [
    {
     "data": {
      "text/html": [
       "<div>\n",
       "<style scoped>\n",
       "    .dataframe tbody tr th:only-of-type {\n",
       "        vertical-align: middle;\n",
       "    }\n",
       "\n",
       "    .dataframe tbody tr th {\n",
       "        vertical-align: top;\n",
       "    }\n",
       "\n",
       "    .dataframe thead th {\n",
       "        text-align: right;\n",
       "    }\n",
       "</style>\n",
       "<table border=\"1\" class=\"dataframe\">\n",
       "  <thead>\n",
       "    <tr style=\"text-align: right;\">\n",
       "      <th></th>\n",
       "      <th>columns</th>\n",
       "      <th>skew</th>\n",
       "      <th>distribution</th>\n",
       "    </tr>\n",
       "  </thead>\n",
       "  <tbody>\n",
       "    <tr>\n",
       "      <th>0</th>\n",
       "      <td>WeekOfMonth</td>\n",
       "      <td>0.119115</td>\n",
       "      <td>Normal</td>\n",
       "    </tr>\n",
       "    <tr>\n",
       "      <th>1</th>\n",
       "      <td>WeekOfMonthClaimed</td>\n",
       "      <td>0.154455</td>\n",
       "      <td>Normal</td>\n",
       "    </tr>\n",
       "    <tr>\n",
       "      <th>2</th>\n",
       "      <td>Age</td>\n",
       "      <td>0.722554</td>\n",
       "      <td>Skew</td>\n",
       "    </tr>\n",
       "    <tr>\n",
       "      <th>3</th>\n",
       "      <td>PolicyNumber</td>\n",
       "      <td>-0.002154</td>\n",
       "      <td>Normal</td>\n",
       "    </tr>\n",
       "    <tr>\n",
       "      <th>4</th>\n",
       "      <td>RepNumber</td>\n",
       "      <td>0.006434</td>\n",
       "      <td>Normal</td>\n",
       "    </tr>\n",
       "    <tr>\n",
       "      <th>5</th>\n",
       "      <td>Deductible</td>\n",
       "      <td>6.068661</td>\n",
       "      <td>Skew</td>\n",
       "    </tr>\n",
       "    <tr>\n",
       "      <th>6</th>\n",
       "      <td>DriverRating</td>\n",
       "      <td>0.009278</td>\n",
       "      <td>Normal</td>\n",
       "    </tr>\n",
       "    <tr>\n",
       "      <th>7</th>\n",
       "      <td>Year</td>\n",
       "      <td>0.247429</td>\n",
       "      <td>Normal</td>\n",
       "    </tr>\n",
       "  </tbody>\n",
       "</table>\n",
       "</div>"
      ],
      "text/plain": [
       "              columns      skew distribution\n",
       "0         WeekOfMonth  0.119115       Normal\n",
       "1  WeekOfMonthClaimed  0.154455       Normal\n",
       "2                 Age  0.722554         Skew\n",
       "3        PolicyNumber -0.002154       Normal\n",
       "4           RepNumber  0.006434       Normal\n",
       "5          Deductible  6.068661         Skew\n",
       "6        DriverRating  0.009278       Normal\n",
       "7                Year  0.247429       Normal"
      ]
     },
     "execution_count": 21,
     "metadata": {},
     "output_type": "execute_result"
    }
   ],
   "source": [
    "X_train_distr = pd.DataFrame({'columns':X_train.describe().columns, 'skew' : X_train.skew(axis=0)})\n",
    "X_train_distr.reset_index(drop=True, inplace=True)\n",
    "X_train_distr['distribution'] = np.where((X_train_distr['skew'] < 0.5) & (X_train_distr['skew'] > - 0.5) , 'Normal', 'Skew')\n",
    "X_train_distr"
   ]
  },
  {
   "cell_type": "markdown",
   "metadata": {},
   "source": [
    "Hanya satu kolom yang memiliki dsitribusi skew, yaitu kolom Deductible"
   ]
  },
  {
   "cell_type": "code",
   "execution_count": 22,
   "metadata": {},
   "outputs": [],
   "source": [
    "def find_normal_boundaries(df, variable):\n",
    "    upper_boundary = df[variable].mean() + 3 * df[variable].std()\n",
    "    lower_boundary = df[variable].mean() - 3 * df[variable].std()\n",
    "\n",
    "    return upper_boundary, lower_boundary\n",
    "\n",
    "def find_skewed_boundaries(df, variable, distance):\n",
    "    IQR = df[variable].quantile(0.75) - df[variable].quantile(0.25)\n",
    "\n",
    "    lower = df[variable].quantile(0.25) - distance * IQR\n",
    "    upper = df[variable].quantile(0.75) + distance * IQR\n",
    "\n",
    "    return upper, lower"
   ]
  },
  {
   "cell_type": "code",
   "execution_count": 23,
   "metadata": {},
   "outputs": [
    {
     "name": "stdout",
     "output_type": "stream",
     "text": [
      "Boundary Lower and Upper WeekOfMonth:(-1.0806876153651017, 6.657360779757564)\n",
      "==============================\n",
      "Boundary Lower and Upper WeekOfMonthClaimed:(-1.0615623111363557, 6.448176995996654)\n",
      "==============================\n",
      "Batas lower dan upper untuk Age:(4.0, 76.0)\n",
      "==============================\n",
      "Boundary Lower and Upper PolicyNumber:(-5580.862967936164, 20988.339088793866)\n",
      "==============================\n",
      "Boundary Lower and Upper RepNumber:(-5.301551168569237, 22.279783787152734)\n",
      "==============================\n",
      "Batas lower dan upper untuk Deductible:(400.0, 400.0)\n",
      "==============================\n",
      "Boundary Lower and Upper DriverRating:(-0.8749524285987413, 5.851885502023043)\n",
      "==============================\n",
      "Boundary Lower and Upper Year:(1992.4646128479792, 1997.265406645198)\n",
      "==============================\n"
     ]
    }
   ],
   "source": [
    "j = 0\n",
    "outliers={}\n",
    "for i in X_train.describe().columns:\n",
    "    if X_train_distr['distribution'].loc[(X_train_distr['columns']==i)].values[0]== 'Normal':\n",
    "        upper_boundary, lower_boundary = find_normal_boundaries(X_train, i)\n",
    "        print(f\"Boundary Lower and Upper {i}:{lower_boundary, upper_boundary}\")\n",
    "        outliers[f\"outliers{j}\"] = np.where(X_train[i] > upper_boundary, True, np.where(X_train[i] < lower_boundary, True, False))\n",
    "    else:\n",
    "        upper_boundary, lower_boundary = find_skewed_boundaries(X_train, i, 1.5)\n",
    "        print(f\"Batas lower dan upper untuk {i}:{lower_boundary, upper_boundary}\")\n",
    "        outliers[f\"outliers{j}\"] = np.where(X_train[i] > upper_boundary, True, np.where(X_train[i] < lower_boundary, True, False))\n",
    "    print(\"=\"*30)\n",
    "    j+=1"
   ]
  },
  {
   "cell_type": "markdown",
   "metadata": {},
   "source": [
    "Untuk menghandling outlier akan dibuat kreteria sebagai berikut:\n",
    "\n",
    "- Apabila outlier antara 0 - 5% akan dihandling dengan trimming\n",
    "- Apabila outlier antara 5% - 15% akan dihandling dengan capping/windsorizer\n"
   ]
  },
  {
   "cell_type": "code",
   "execution_count": 24,
   "metadata": {},
   "outputs": [
    {
     "data": {
      "text/html": [
       "<div>\n",
       "<style scoped>\n",
       "    .dataframe tbody tr th:only-of-type {\n",
       "        vertical-align: middle;\n",
       "    }\n",
       "\n",
       "    .dataframe tbody tr th {\n",
       "        vertical-align: top;\n",
       "    }\n",
       "\n",
       "    .dataframe thead th {\n",
       "        text-align: right;\n",
       "    }\n",
       "</style>\n",
       "<table border=\"1\" class=\"dataframe\">\n",
       "  <thead>\n",
       "    <tr style=\"text-align: right;\">\n",
       "      <th></th>\n",
       "      <th>columns</th>\n",
       "      <th>skew</th>\n",
       "      <th>distribution</th>\n",
       "      <th>trimmed_row</th>\n",
       "      <th>percentage</th>\n",
       "      <th>action</th>\n",
       "    </tr>\n",
       "  </thead>\n",
       "  <tbody>\n",
       "    <tr>\n",
       "      <th>0</th>\n",
       "      <td>WeekOfMonth</td>\n",
       "      <td>0.119115</td>\n",
       "      <td>Normal</td>\n",
       "      <td>0.0</td>\n",
       "      <td>0.00</td>\n",
       "      <td>No Action</td>\n",
       "    </tr>\n",
       "    <tr>\n",
       "      <th>1</th>\n",
       "      <td>WeekOfMonthClaimed</td>\n",
       "      <td>0.154455</td>\n",
       "      <td>Normal</td>\n",
       "      <td>0.0</td>\n",
       "      <td>0.00</td>\n",
       "      <td>No Action</td>\n",
       "    </tr>\n",
       "    <tr>\n",
       "      <th>2</th>\n",
       "      <td>Age</td>\n",
       "      <td>0.722554</td>\n",
       "      <td>Skew</td>\n",
       "      <td>93.0</td>\n",
       "      <td>0.76</td>\n",
       "      <td>Trimming</td>\n",
       "    </tr>\n",
       "    <tr>\n",
       "      <th>3</th>\n",
       "      <td>PolicyNumber</td>\n",
       "      <td>-0.002154</td>\n",
       "      <td>Normal</td>\n",
       "      <td>0.0</td>\n",
       "      <td>0.00</td>\n",
       "      <td>No Action</td>\n",
       "    </tr>\n",
       "    <tr>\n",
       "      <th>4</th>\n",
       "      <td>RepNumber</td>\n",
       "      <td>0.006434</td>\n",
       "      <td>Normal</td>\n",
       "      <td>0.0</td>\n",
       "      <td>0.00</td>\n",
       "      <td>No Action</td>\n",
       "    </tr>\n",
       "    <tr>\n",
       "      <th>5</th>\n",
       "      <td>Deductible</td>\n",
       "      <td>6.068661</td>\n",
       "      <td>Skew</td>\n",
       "      <td>466.0</td>\n",
       "      <td>3.78</td>\n",
       "      <td>Trimming</td>\n",
       "    </tr>\n",
       "    <tr>\n",
       "      <th>6</th>\n",
       "      <td>DriverRating</td>\n",
       "      <td>0.009278</td>\n",
       "      <td>Normal</td>\n",
       "      <td>0.0</td>\n",
       "      <td>0.00</td>\n",
       "      <td>No Action</td>\n",
       "    </tr>\n",
       "    <tr>\n",
       "      <th>7</th>\n",
       "      <td>Year</td>\n",
       "      <td>0.247429</td>\n",
       "      <td>Normal</td>\n",
       "      <td>0.0</td>\n",
       "      <td>0.00</td>\n",
       "      <td>No Action</td>\n",
       "    </tr>\n",
       "  </tbody>\n",
       "</table>\n",
       "</div>"
      ],
      "text/plain": [
       "              columns      skew distribution  trimmed_row  percentage  \\\n",
       "0         WeekOfMonth  0.119115       Normal          0.0        0.00   \n",
       "1  WeekOfMonthClaimed  0.154455       Normal          0.0        0.00   \n",
       "2                 Age  0.722554         Skew         93.0        0.76   \n",
       "3        PolicyNumber -0.002154       Normal          0.0        0.00   \n",
       "4           RepNumber  0.006434       Normal          0.0        0.00   \n",
       "5          Deductible  6.068661         Skew        466.0        3.78   \n",
       "6        DriverRating  0.009278       Normal          0.0        0.00   \n",
       "7                Year  0.247429       Normal          0.0        0.00   \n",
       "\n",
       "      action  \n",
       "0  No Action  \n",
       "1  No Action  \n",
       "2   Trimming  \n",
       "3  No Action  \n",
       "4  No Action  \n",
       "5   Trimming  \n",
       "6  No Action  \n",
       "7  No Action  "
      ]
     },
     "execution_count": 24,
     "metadata": {},
     "output_type": "execute_result"
    }
   ],
   "source": [
    "for i, (k, v) in enumerate(outliers.items()):\n",
    "    X_train_distr_handling= X_train.loc[~outliers[k]]\n",
    "    X_train_distr.loc[i,'trimmed_row'] = X_train.shape[0] - X_train_distr_handling.shape[0]\n",
    "    X_train_distr.loc[i,'percentage'] = np.round(100-(X_train_distr_handling.shape[0]/X_train.shape[0]*100), 2)\n",
    "    X_train_distr.loc[i,'action'] = np.where(X_train_distr.loc[i,'percentage']==0, 'No Action', \n",
    "                                        np.where(X_train_distr.loc[i,'percentage']>15, 'Capping/Windsorizer', 'Trimming'))\n",
    "\n",
    "X_train_distr\n",
    "                                        "
   ]
  },
  {
   "cell_type": "code",
   "execution_count": 25,
   "metadata": {},
   "outputs": [],
   "source": [
    "outliers_tot = outliers['outliers2']\n",
    "for i, (k, v) in enumerate(outliers.items()):\n",
    "    if i in [2,5]:\n",
    "        outliers_tot += outliers[k]"
   ]
  },
  {
   "cell_type": "code",
   "execution_count": 26,
   "metadata": {},
   "outputs": [
    {
     "name": "stdout",
     "output_type": "stream",
     "text": [
      "Jumlah baris pada X_train SEBELUM di Trimming: 12312\n",
      "Jumlah baris pada X_train SETELAH di Trimming: 11756\n",
      "% Outlier dari Keseluruhan Data: 4.52%\n"
     ]
    }
   ],
   "source": [
    "X_train_trimmed = X_train.loc[~outliers_tot]\n",
    "y_train_trimmed = y_train.loc[~outliers_tot]\n",
    "\n",
    "print(f\"Jumlah baris pada X_train SEBELUM di Trimming: {X_train.shape[0]}\")\n",
    "print(f\"Jumlah baris pada X_train SETELAH di Trimming: {X_train_trimmed.shape[0]}\")\n",
    "print(f\"% Outlier dari Keseluruhan Data: {100-(X_train_trimmed.shape[0]/X_train.shape[0]*100):.2f}%\")"
   ]
  },
  {
   "cell_type": "code",
   "execution_count": 27,
   "metadata": {},
   "outputs": [],
   "source": [
    "def diagnostic_plots(df, variable):\n",
    "    # Define figure size\n",
    "    plt.figure(figsize=(16, 4))\n",
    "\n",
    "    # Histogram\n",
    "    plt.subplot(1, 2, 1)\n",
    "    sns.histplot(df[variable], bins=30)\n",
    "    plt.title('Histogram')\n",
    "\n",
    "    # Boxplot\n",
    "    plt.subplot(1, 2, 2)\n",
    "    sns.boxplot(y=df[variable])\n",
    "    plt.title('Boxplot')\n",
    "\n",
    "    plt.show()"
   ]
  },
  {
   "cell_type": "code",
   "execution_count": 28,
   "metadata": {},
   "outputs": [
    {
     "name": "stdout",
     "output_type": "stream",
     "text": [
      "Age - Before Trimming\n"
     ]
    },
    {
     "data": {
      "image/png": "[encoded data removed]",
      "text/plain": [
       "<Figure size 1152x288 with 2 Axes>"
      ]
     },
     "metadata": {
      "needs_background": "light"
     },
     "output_type": "display_data"
    },
    {
     "name": "stdout",
     "output_type": "stream",
     "text": [
      "\n",
      "Age - After Trimming\n"
     ]
    },
    {
     "data": {
      "image/png": "[encoded data removed]",
      "text/plain": [
       "<Figure size 1152x288 with 2 Axes>"
      ]
     },
     "metadata": {
      "needs_background": "light"
     },
     "output_type": "display_data"
    },
    {
     "name": "stdout",
     "output_type": "stream",
     "text": [
      "\\Deductible - Before Trimming\n"
     ]
    },
    {
     "data": {
      "image/png": "[encoded data removed]",
      "text/plain": [
       "<Figure size 1152x288 with 2 Axes>"
      ]
     },
     "metadata": {
      "needs_background": "light"
     },
     "output_type": "display_data"
    },
    {
     "name": "stdout",
     "output_type": "stream",
     "text": [
      "\n",
      "Deductible - After Trimming\n"
     ]
    },
    {
     "data": {
      "image/png": "[encoded data removed]",
      "text/plain": [
       "<Figure size 1152x288 with 2 Axes>"
      ]
     },
     "metadata": {
      "needs_background": "light"
     },
     "output_type": "display_data"
    }
   ],
   "source": [
    "print('Age - Before Trimming')\n",
    "diagnostic_plots(X_train, 'Age')\n",
    "print('\\nAge - After Trimming')\n",
    "diagnostic_plots(X_train_trimmed, 'Age')\n",
    "\n",
    "print('\\Deductible - Before Trimming')\n",
    "diagnostic_plots(X_train, 'Deductible')\n",
    "print('\\nDeductible - After Trimming')\n",
    "diagnostic_plots(X_train_trimmed, 'Deductible')"
   ]
  },
  {
   "cell_type": "markdown",
   "metadata": {},
   "source": [
    "## Missing Value Handling"
   ]
  },
  {
   "cell_type": "code",
   "execution_count": 29,
   "metadata": {},
   "outputs": [
    {
     "data": {
      "text/plain": [
       "Month                     0\n",
       "WeekOfMonth               0\n",
       "DayOfWeek                 0\n",
       "Make                      0\n",
       "AccidentArea              0\n",
       "DayOfWeekClaimed          0\n",
       "MonthClaimed              0\n",
       "WeekOfMonthClaimed        0\n",
       "Sex                       0\n",
       "MaritalStatus             0\n",
       "Age                     264\n",
       "Fault                     0\n",
       "PolicyType                0\n",
       "VehicleCategory           0\n",
       "VehiclePrice              0\n",
       "PolicyNumber              0\n",
       "RepNumber                 0\n",
       "Deductible                0\n",
       "DriverRating              0\n",
       "Days_Policy_Accident      0\n",
       "Days_Policy_Claim         0\n",
       "PastNumberOfClaims        0\n",
       "AgeOfVehicle              0\n",
       "AgeOfPolicyHolder         0\n",
       "PoliceReportFiled         0\n",
       "WitnessPresent            0\n",
       "AgentType                 0\n",
       "NumberOfSuppliments       0\n",
       "AddressChange_Claim       0\n",
       "NumberOfCars              0\n",
       "Year                      0\n",
       "BasePolicy                0\n",
       "dtype: int64"
      ]
     },
     "execution_count": 29,
     "metadata": {},
     "output_type": "execute_result"
    }
   ],
   "source": [
    "X_train_trimmed.isna().sum()"
   ]
  },
  {
   "cell_type": "code",
   "execution_count": 30,
   "metadata": {},
   "outputs": [
    {
     "data": {
      "text/plain": [
       "0.6359516211137439"
      ]
     },
     "execution_count": 30,
     "metadata": {},
     "output_type": "execute_result"
    }
   ],
   "source": [
    "X_train_trimmed['Age'].skew()"
   ]
  },
  {
   "cell_type": "code",
   "execution_count": 31,
   "metadata": {},
   "outputs": [
    {
     "data": {
      "text/plain": [
       "Month                    0\n",
       "WeekOfMonth              0\n",
       "DayOfWeek                0\n",
       "Make                     0\n",
       "AccidentArea             0\n",
       "DayOfWeekClaimed         0\n",
       "MonthClaimed             0\n",
       "WeekOfMonthClaimed       0\n",
       "Sex                      0\n",
       "MaritalStatus            0\n",
       "Age                     54\n",
       "Fault                    0\n",
       "PolicyType               0\n",
       "VehicleCategory          0\n",
       "VehiclePrice             0\n",
       "PolicyNumber             0\n",
       "RepNumber                0\n",
       "Deductible               0\n",
       "DriverRating             0\n",
       "Days_Policy_Accident     0\n",
       "Days_Policy_Claim        0\n",
       "PastNumberOfClaims       0\n",
       "AgeOfVehicle             0\n",
       "AgeOfPolicyHolder        0\n",
       "PoliceReportFiled        0\n",
       "WitnessPresent           0\n",
       "AgentType                0\n",
       "NumberOfSuppliments      0\n",
       "AddressChange_Claim      0\n",
       "NumberOfCars             0\n",
       "Year                     0\n",
       "BasePolicy               0\n",
       "dtype: int64"
      ]
     },
     "execution_count": 31,
     "metadata": {},
     "output_type": "execute_result"
    }
   ],
   "source": [
    "X_test.isna().sum()"
   ]
  },
  {
   "cell_type": "code",
   "execution_count": 32,
   "metadata": {},
   "outputs": [],
   "source": [
    "X_train_trimmed['Age'].fillna(X_train_trimmed['Age'].median(), inplace=True)\n",
    "X_test['Age'].fillna(X_train_trimmed['Age'].median(), inplace=True)"
   ]
  },
  {
   "cell_type": "markdown",
   "metadata": {},
   "source": [
    "Missing value pada kolom age diisi dengan nilai median karena distribusi pada kolom tersebut berbentuk skew."
   ]
  },
  {
   "cell_type": "markdown",
   "metadata": {},
   "source": [
    "## Feature Selection"
   ]
  },
  {
   "cell_type": "code",
   "execution_count": 33,
   "metadata": {},
   "outputs": [
    {
     "data": {
      "text/html": [
       "<div>\n",
       "<style scoped>\n",
       "    .dataframe tbody tr th:only-of-type {\n",
       "        vertical-align: middle;\n",
       "    }\n",
       "\n",
       "    .dataframe tbody tr th {\n",
       "        vertical-align: top;\n",
       "    }\n",
       "\n",
       "    .dataframe thead th {\n",
       "        text-align: right;\n",
       "    }\n",
       "</style>\n",
       "<table border=\"1\" class=\"dataframe\">\n",
       "  <thead>\n",
       "    <tr style=\"text-align: right;\">\n",
       "      <th></th>\n",
       "      <th>Month</th>\n",
       "      <th>WeekOfMonth</th>\n",
       "      <th>DayOfWeek</th>\n",
       "      <th>Make</th>\n",
       "      <th>AccidentArea</th>\n",
       "      <th>DayOfWeekClaimed</th>\n",
       "      <th>MonthClaimed</th>\n",
       "      <th>WeekOfMonthClaimed</th>\n",
       "      <th>Sex</th>\n",
       "      <th>MaritalStatus</th>\n",
       "      <th>Age</th>\n",
       "      <th>Fault</th>\n",
       "      <th>PolicyType</th>\n",
       "      <th>VehicleCategory</th>\n",
       "      <th>VehiclePrice</th>\n",
       "      <th>FraudFound_P</th>\n",
       "      <th>PolicyNumber</th>\n",
       "      <th>RepNumber</th>\n",
       "      <th>Deductible</th>\n",
       "      <th>DriverRating</th>\n",
       "      <th>Days_Policy_Accident</th>\n",
       "      <th>Days_Policy_Claim</th>\n",
       "      <th>PastNumberOfClaims</th>\n",
       "      <th>AgeOfVehicle</th>\n",
       "      <th>AgeOfPolicyHolder</th>\n",
       "      <th>PoliceReportFiled</th>\n",
       "      <th>WitnessPresent</th>\n",
       "      <th>AgentType</th>\n",
       "      <th>NumberOfSuppliments</th>\n",
       "      <th>AddressChange_Claim</th>\n",
       "      <th>NumberOfCars</th>\n",
       "      <th>Year</th>\n",
       "      <th>BasePolicy</th>\n",
       "    </tr>\n",
       "  </thead>\n",
       "  <tbody>\n",
       "    <tr>\n",
       "      <th>0</th>\n",
       "      <td>Dec</td>\n",
       "      <td>5</td>\n",
       "      <td>Wednesday</td>\n",
       "      <td>Honda</td>\n",
       "      <td>Urban</td>\n",
       "      <td>Tuesday</td>\n",
       "      <td>Jan</td>\n",
       "      <td>1</td>\n",
       "      <td>Female</td>\n",
       "      <td>Single</td>\n",
       "      <td>21.0</td>\n",
       "      <td>Policy Holder</td>\n",
       "      <td>Sport - Liability</td>\n",
       "      <td>Sport</td>\n",
       "      <td>more than 69000</td>\n",
       "      <td>no fraud</td>\n",
       "      <td>1</td>\n",
       "      <td>12</td>\n",
       "      <td>300</td>\n",
       "      <td>1</td>\n",
       "      <td>more than 30</td>\n",
       "      <td>more than 30</td>\n",
       "      <td>none</td>\n",
       "      <td>3 years</td>\n",
       "      <td>26 to 30</td>\n",
       "      <td>No</td>\n",
       "      <td>No</td>\n",
       "      <td>External</td>\n",
       "      <td>none</td>\n",
       "      <td>1 year</td>\n",
       "      <td>3 to 4</td>\n",
       "      <td>1994</td>\n",
       "      <td>Liability</td>\n",
       "    </tr>\n",
       "    <tr>\n",
       "      <th>1</th>\n",
       "      <td>Jan</td>\n",
       "      <td>3</td>\n",
       "      <td>Wednesday</td>\n",
       "      <td>Honda</td>\n",
       "      <td>Urban</td>\n",
       "      <td>Monday</td>\n",
       "      <td>Jan</td>\n",
       "      <td>4</td>\n",
       "      <td>Male</td>\n",
       "      <td>Single</td>\n",
       "      <td>34.0</td>\n",
       "      <td>Policy Holder</td>\n",
       "      <td>Sport - Collision</td>\n",
       "      <td>Sport</td>\n",
       "      <td>more than 69000</td>\n",
       "      <td>no fraud</td>\n",
       "      <td>2</td>\n",
       "      <td>15</td>\n",
       "      <td>400</td>\n",
       "      <td>4</td>\n",
       "      <td>more than 30</td>\n",
       "      <td>more than 30</td>\n",
       "      <td>none</td>\n",
       "      <td>6 years</td>\n",
       "      <td>31 to 35</td>\n",
       "      <td>Yes</td>\n",
       "      <td>No</td>\n",
       "      <td>External</td>\n",
       "      <td>none</td>\n",
       "      <td>no change</td>\n",
       "      <td>1 vehicle</td>\n",
       "      <td>1994</td>\n",
       "      <td>Collision</td>\n",
       "    </tr>\n",
       "    <tr>\n",
       "      <th>2</th>\n",
       "      <td>Oct</td>\n",
       "      <td>5</td>\n",
       "      <td>Friday</td>\n",
       "      <td>Honda</td>\n",
       "      <td>Urban</td>\n",
       "      <td>Thursday</td>\n",
       "      <td>Nov</td>\n",
       "      <td>2</td>\n",
       "      <td>Male</td>\n",
       "      <td>Married</td>\n",
       "      <td>47.0</td>\n",
       "      <td>Policy Holder</td>\n",
       "      <td>Sport - Collision</td>\n",
       "      <td>Sport</td>\n",
       "      <td>more than 69000</td>\n",
       "      <td>no fraud</td>\n",
       "      <td>3</td>\n",
       "      <td>7</td>\n",
       "      <td>400</td>\n",
       "      <td>3</td>\n",
       "      <td>more than 30</td>\n",
       "      <td>more than 30</td>\n",
       "      <td>1</td>\n",
       "      <td>7 years</td>\n",
       "      <td>41 to 50</td>\n",
       "      <td>No</td>\n",
       "      <td>No</td>\n",
       "      <td>External</td>\n",
       "      <td>none</td>\n",
       "      <td>no change</td>\n",
       "      <td>1 vehicle</td>\n",
       "      <td>1994</td>\n",
       "      <td>Collision</td>\n",
       "    </tr>\n",
       "    <tr>\n",
       "      <th>3</th>\n",
       "      <td>Jun</td>\n",
       "      <td>2</td>\n",
       "      <td>Saturday</td>\n",
       "      <td>Toyota</td>\n",
       "      <td>Rural</td>\n",
       "      <td>Friday</td>\n",
       "      <td>Jul</td>\n",
       "      <td>1</td>\n",
       "      <td>Male</td>\n",
       "      <td>Married</td>\n",
       "      <td>65.0</td>\n",
       "      <td>Third Party</td>\n",
       "      <td>Sedan - Liability</td>\n",
       "      <td>Sport</td>\n",
       "      <td>20000 to 29000</td>\n",
       "      <td>no fraud</td>\n",
       "      <td>4</td>\n",
       "      <td>4</td>\n",
       "      <td>400</td>\n",
       "      <td>2</td>\n",
       "      <td>more than 30</td>\n",
       "      <td>more than 30</td>\n",
       "      <td>1</td>\n",
       "      <td>more than 7</td>\n",
       "      <td>51 to 65</td>\n",
       "      <td>Yes</td>\n",
       "      <td>No</td>\n",
       "      <td>External</td>\n",
       "      <td>more than 5</td>\n",
       "      <td>no change</td>\n",
       "      <td>1 vehicle</td>\n",
       "      <td>1994</td>\n",
       "      <td>Liability</td>\n",
       "    </tr>\n",
       "    <tr>\n",
       "      <th>4</th>\n",
       "      <td>Jan</td>\n",
       "      <td>5</td>\n",
       "      <td>Monday</td>\n",
       "      <td>Honda</td>\n",
       "      <td>Urban</td>\n",
       "      <td>Tuesday</td>\n",
       "      <td>Feb</td>\n",
       "      <td>2</td>\n",
       "      <td>Female</td>\n",
       "      <td>Single</td>\n",
       "      <td>27.0</td>\n",
       "      <td>Third Party</td>\n",
       "      <td>Sport - Collision</td>\n",
       "      <td>Sport</td>\n",
       "      <td>more than 69000</td>\n",
       "      <td>no fraud</td>\n",
       "      <td>5</td>\n",
       "      <td>3</td>\n",
       "      <td>400</td>\n",
       "      <td>1</td>\n",
       "      <td>more than 30</td>\n",
       "      <td>more than 30</td>\n",
       "      <td>none</td>\n",
       "      <td>5 years</td>\n",
       "      <td>31 to 35</td>\n",
       "      <td>No</td>\n",
       "      <td>No</td>\n",
       "      <td>External</td>\n",
       "      <td>none</td>\n",
       "      <td>no change</td>\n",
       "      <td>1 vehicle</td>\n",
       "      <td>1994</td>\n",
       "      <td>Collision</td>\n",
       "    </tr>\n",
       "  </tbody>\n",
       "</table>\n",
       "</div>"
      ],
      "text/plain": [
       "  Month  WeekOfMonth  DayOfWeek    Make AccidentArea DayOfWeekClaimed  \\\n",
       "0   Dec            5  Wednesday   Honda        Urban          Tuesday   \n",
       "1   Jan            3  Wednesday   Honda        Urban           Monday   \n",
       "2   Oct            5     Friday   Honda        Urban         Thursday   \n",
       "3   Jun            2   Saturday  Toyota        Rural           Friday   \n",
       "4   Jan            5     Monday   Honda        Urban          Tuesday   \n",
       "\n",
       "  MonthClaimed  WeekOfMonthClaimed     Sex MaritalStatus   Age          Fault  \\\n",
       "0          Jan                   1  Female        Single  21.0  Policy Holder   \n",
       "1          Jan                   4    Male        Single  34.0  Policy Holder   \n",
       "2          Nov                   2    Male       Married  47.0  Policy Holder   \n",
       "3          Jul                   1    Male       Married  65.0    Third Party   \n",
       "4          Feb                   2  Female        Single  27.0    Third Party   \n",
       "\n",
       "          PolicyType VehicleCategory     VehiclePrice FraudFound_P  \\\n",
       "0  Sport - Liability           Sport  more than 69000     no fraud   \n",
       "1  Sport - Collision           Sport  more than 69000     no fraud   \n",
       "2  Sport - Collision           Sport  more than 69000     no fraud   \n",
       "3  Sedan - Liability           Sport   20000 to 29000     no fraud   \n",
       "4  Sport - Collision           Sport  more than 69000     no fraud   \n",
       "\n",
       "   PolicyNumber  RepNumber  Deductible  DriverRating Days_Policy_Accident  \\\n",
       "0             1         12         300             1         more than 30   \n",
       "1             2         15         400             4         more than 30   \n",
       "2             3          7         400             3         more than 30   \n",
       "3             4          4         400             2         more than 30   \n",
       "4             5          3         400             1         more than 30   \n",
       "\n",
       "  Days_Policy_Claim PastNumberOfClaims AgeOfVehicle AgeOfPolicyHolder  \\\n",
       "0      more than 30               none      3 years          26 to 30   \n",
       "1      more than 30               none      6 years          31 to 35   \n",
       "2      more than 30                  1      7 years          41 to 50   \n",
       "3      more than 30                  1  more than 7          51 to 65   \n",
       "4      more than 30               none      5 years          31 to 35   \n",
       "\n",
       "  PoliceReportFiled WitnessPresent AgentType NumberOfSuppliments  \\\n",
       "0                No             No  External                none   \n",
       "1               Yes             No  External                none   \n",
       "2                No             No  External                none   \n",
       "3               Yes             No  External         more than 5   \n",
       "4                No             No  External                none   \n",
       "\n",
       "  AddressChange_Claim NumberOfCars  Year BasePolicy  \n",
       "0              1 year       3 to 4  1994  Liability  \n",
       "1           no change    1 vehicle  1994  Collision  \n",
       "2           no change    1 vehicle  1994  Collision  \n",
       "3           no change    1 vehicle  1994  Liability  \n",
       "4           no change    1 vehicle  1994  Collision  "
      ]
     },
     "execution_count": 33,
     "metadata": {},
     "output_type": "execute_result"
    }
   ],
   "source": [
    "df_eda.head()"
   ]
  },
  {
   "cell_type": "code",
   "execution_count": 34,
   "metadata": {},
   "outputs": [
    {
     "data": {
      "text/html": [
       "<div>\n",
       "<style scoped>\n",
       "    .dataframe tbody tr th:only-of-type {\n",
       "        vertical-align: middle;\n",
       "    }\n",
       "\n",
       "    .dataframe tbody tr th {\n",
       "        vertical-align: top;\n",
       "    }\n",
       "\n",
       "    .dataframe thead th {\n",
       "        text-align: right;\n",
       "    }\n",
       "</style>\n",
       "<table border=\"1\" class=\"dataframe\">\n",
       "  <thead>\n",
       "    <tr style=\"text-align: right;\">\n",
       "      <th></th>\n",
       "      <th>WeekOfMonth</th>\n",
       "      <th>WeekOfMonthClaimed</th>\n",
       "      <th>Age</th>\n",
       "      <th>FraudFound_P</th>\n",
       "      <th>PolicyNumber</th>\n",
       "      <th>RepNumber</th>\n",
       "      <th>Deductible</th>\n",
       "      <th>DriverRating</th>\n",
       "      <th>Year</th>\n",
       "    </tr>\n",
       "  </thead>\n",
       "  <tbody>\n",
       "    <tr>\n",
       "      <th>WeekOfMonth</th>\n",
       "      <td>1.000000</td>\n",
       "      <td>0.275400</td>\n",
       "      <td>-0.011905</td>\n",
       "      <td>-0.011861</td>\n",
       "      <td>-0.007797</td>\n",
       "      <td>0.005283</td>\n",
       "      <td>-0.003993</td>\n",
       "      <td>-0.016817</td>\n",
       "      <td>-0.003906</td>\n",
       "    </tr>\n",
       "    <tr>\n",
       "      <th>WeekOfMonthClaimed</th>\n",
       "      <td>0.275400</td>\n",
       "      <td>1.000000</td>\n",
       "      <td>0.001025</td>\n",
       "      <td>-0.005761</td>\n",
       "      <td>0.011665</td>\n",
       "      <td>0.008908</td>\n",
       "      <td>0.005457</td>\n",
       "      <td>-0.000048</td>\n",
       "      <td>0.012175</td>\n",
       "    </tr>\n",
       "    <tr>\n",
       "      <th>Age</th>\n",
       "      <td>-0.011905</td>\n",
       "      <td>0.001025</td>\n",
       "      <td>1.000000</td>\n",
       "      <td>-0.022494</td>\n",
       "      <td>0.015721</td>\n",
       "      <td>-0.005318</td>\n",
       "      <td>0.064278</td>\n",
       "      <td>0.000673</td>\n",
       "      <td>0.016682</td>\n",
       "    </tr>\n",
       "    <tr>\n",
       "      <th>FraudFound_P</th>\n",
       "      <td>-0.011861</td>\n",
       "      <td>-0.005761</td>\n",
       "      <td>-0.022494</td>\n",
       "      <td>1.000000</td>\n",
       "      <td>-0.020345</td>\n",
       "      <td>-0.007551</td>\n",
       "      <td>0.017348</td>\n",
       "      <td>0.007266</td>\n",
       "      <td>-0.024760</td>\n",
       "    </tr>\n",
       "    <tr>\n",
       "      <th>PolicyNumber</th>\n",
       "      <td>-0.007797</td>\n",
       "      <td>0.011665</td>\n",
       "      <td>0.015721</td>\n",
       "      <td>-0.020345</td>\n",
       "      <td>1.000000</td>\n",
       "      <td>0.008990</td>\n",
       "      <td>0.002133</td>\n",
       "      <td>-0.012312</td>\n",
       "      <td>0.936513</td>\n",
       "    </tr>\n",
       "    <tr>\n",
       "      <th>RepNumber</th>\n",
       "      <td>0.005283</td>\n",
       "      <td>0.008908</td>\n",
       "      <td>-0.005318</td>\n",
       "      <td>-0.007551</td>\n",
       "      <td>0.008990</td>\n",
       "      <td>1.000000</td>\n",
       "      <td>0.000509</td>\n",
       "      <td>0.011031</td>\n",
       "      <td>0.009338</td>\n",
       "    </tr>\n",
       "    <tr>\n",
       "      <th>Deductible</th>\n",
       "      <td>-0.003993</td>\n",
       "      <td>0.005457</td>\n",
       "      <td>0.064278</td>\n",
       "      <td>0.017348</td>\n",
       "      <td>0.002133</td>\n",
       "      <td>0.000509</td>\n",
       "      <td>1.000000</td>\n",
       "      <td>0.003886</td>\n",
       "      <td>-0.001170</td>\n",
       "    </tr>\n",
       "    <tr>\n",
       "      <th>DriverRating</th>\n",
       "      <td>-0.016817</td>\n",
       "      <td>-0.000048</td>\n",
       "      <td>0.000673</td>\n",
       "      <td>0.007266</td>\n",
       "      <td>-0.012312</td>\n",
       "      <td>0.011031</td>\n",
       "      <td>0.003886</td>\n",
       "      <td>1.000000</td>\n",
       "      <td>-0.013890</td>\n",
       "    </tr>\n",
       "    <tr>\n",
       "      <th>Year</th>\n",
       "      <td>-0.003906</td>\n",
       "      <td>0.012175</td>\n",
       "      <td>0.016682</td>\n",
       "      <td>-0.024760</td>\n",
       "      <td>0.936513</td>\n",
       "      <td>0.009338</td>\n",
       "      <td>-0.001170</td>\n",
       "      <td>-0.013890</td>\n",
       "      <td>1.000000</td>\n",
       "    </tr>\n",
       "  </tbody>\n",
       "</table>\n",
       "</div>"
      ],
      "text/plain": [
       "                    WeekOfMonth  WeekOfMonthClaimed       Age  FraudFound_P  \\\n",
       "WeekOfMonth            1.000000            0.275400 -0.011905     -0.011861   \n",
       "WeekOfMonthClaimed     0.275400            1.000000  0.001025     -0.005761   \n",
       "Age                   -0.011905            0.001025  1.000000     -0.022494   \n",
       "FraudFound_P          -0.011861           -0.005761 -0.022494      1.000000   \n",
       "PolicyNumber          -0.007797            0.011665  0.015721     -0.020345   \n",
       "RepNumber              0.005283            0.008908 -0.005318     -0.007551   \n",
       "Deductible            -0.003993            0.005457  0.064278      0.017348   \n",
       "DriverRating          -0.016817           -0.000048  0.000673      0.007266   \n",
       "Year                  -0.003906            0.012175  0.016682     -0.024760   \n",
       "\n",
       "                    PolicyNumber  RepNumber  Deductible  DriverRating  \\\n",
       "WeekOfMonth            -0.007797   0.005283   -0.003993     -0.016817   \n",
       "WeekOfMonthClaimed      0.011665   0.008908    0.005457     -0.000048   \n",
       "Age                     0.015721  -0.005318    0.064278      0.000673   \n",
       "FraudFound_P           -0.020345  -0.007551    0.017348      0.007266   \n",
       "PolicyNumber            1.000000   0.008990    0.002133     -0.012312   \n",
       "RepNumber               0.008990   1.000000    0.000509      0.011031   \n",
       "Deductible              0.002133   0.000509    1.000000      0.003886   \n",
       "DriverRating           -0.012312   0.011031    0.003886      1.000000   \n",
       "Year                    0.936513   0.009338   -0.001170     -0.013890   \n",
       "\n",
       "                        Year  \n",
       "WeekOfMonth        -0.003906  \n",
       "WeekOfMonthClaimed  0.012175  \n",
       "Age                 0.016682  \n",
       "FraudFound_P       -0.024760  \n",
       "PolicyNumber        0.936513  \n",
       "RepNumber           0.009338  \n",
       "Deductible         -0.001170  \n",
       "DriverRating       -0.013890  \n",
       "Year                1.000000  "
      ]
     },
     "execution_count": 34,
     "metadata": {},
     "output_type": "execute_result"
    }
   ],
   "source": [
    "df.corr()"
   ]
  },
  {
   "cell_type": "code",
   "execution_count": 35,
   "metadata": {},
   "outputs": [],
   "source": [
    "X_train_trimmed.drop(['Month', 'WeekOfMonth', 'DayOfWeek', 'Make', 'AccidentArea', 'DayOfWeekClaimed','MonthClaimed', 'WeekOfMonthClaimed', 'PolicyNumber','RepNumber' ,'Year'], axis=1, inplace=True)\n",
    "X_test.drop(['Month', 'WeekOfMonth', 'DayOfWeek', 'Make','AccidentArea',  'DayOfWeekClaimed','MonthClaimed', 'WeekOfMonthClaimed', 'PolicyNumber','RepNumber','Year'] , axis=1, inplace=True)"
   ]
  },
  {
   "cell_type": "markdown",
   "metadata": {},
   "source": [
    "Kolom yang dihapus dilihat berdasarkan besaran korelasi terhadap kolom target. namun untuk beberapa kolom kategori dilakukan penghapusan karena berdasarkan informasi dari sumber data set menyebutkan beberapa kolom kategori tersebut tidak memiliki penjelasan yang cukup jelas. namaun dari beberapa kolom kategori tersebut seperti 'Make', 'Month', dan 'year' kita berasumsi bahwa tidak ada hubungannya kasus penipuan terjadi terhadap bulan, merek kendaraan, dan tahun. Karena kasus penipuan bisa terjadi dari berbagai faktor salahsatunya karena ada celah untuk melakukan penipuan pada perusahaan."
   ]
  },
  {
   "cell_type": "code",
   "execution_count": 36,
   "metadata": {},
   "outputs": [
    {
     "data": {
      "text/html": [
       "<div>\n",
       "<style scoped>\n",
       "    .dataframe tbody tr th:only-of-type {\n",
       "        vertical-align: middle;\n",
       "    }\n",
       "\n",
       "    .dataframe tbody tr th {\n",
       "        vertical-align: top;\n",
       "    }\n",
       "\n",
       "    .dataframe thead th {\n",
       "        text-align: right;\n",
       "    }\n",
       "</style>\n",
       "<table border=\"1\" class=\"dataframe\">\n",
       "  <thead>\n",
       "    <tr style=\"text-align: right;\">\n",
       "      <th></th>\n",
       "      <th>Sex</th>\n",
       "      <th>MaritalStatus</th>\n",
       "      <th>Age</th>\n",
       "      <th>Fault</th>\n",
       "      <th>PolicyType</th>\n",
       "      <th>VehicleCategory</th>\n",
       "      <th>VehiclePrice</th>\n",
       "      <th>Deductible</th>\n",
       "      <th>DriverRating</th>\n",
       "      <th>Days_Policy_Accident</th>\n",
       "      <th>Days_Policy_Claim</th>\n",
       "      <th>PastNumberOfClaims</th>\n",
       "      <th>AgeOfVehicle</th>\n",
       "      <th>AgeOfPolicyHolder</th>\n",
       "      <th>PoliceReportFiled</th>\n",
       "      <th>WitnessPresent</th>\n",
       "      <th>AgentType</th>\n",
       "      <th>NumberOfSuppliments</th>\n",
       "      <th>AddressChange_Claim</th>\n",
       "      <th>NumberOfCars</th>\n",
       "      <th>BasePolicy</th>\n",
       "    </tr>\n",
       "  </thead>\n",
       "  <tbody>\n",
       "    <tr>\n",
       "      <th>6888</th>\n",
       "      <td>Female</td>\n",
       "      <td>Married</td>\n",
       "      <td>26.0</td>\n",
       "      <td>Third Party</td>\n",
       "      <td>Sedan - Liability</td>\n",
       "      <td>Sport</td>\n",
       "      <td>20000 to 29000</td>\n",
       "      <td>400</td>\n",
       "      <td>4</td>\n",
       "      <td>more than 30</td>\n",
       "      <td>more than 30</td>\n",
       "      <td>none</td>\n",
       "      <td>6 years</td>\n",
       "      <td>31 to 35</td>\n",
       "      <td>No</td>\n",
       "      <td>No</td>\n",
       "      <td>External</td>\n",
       "      <td>1 to 2</td>\n",
       "      <td>no change</td>\n",
       "      <td>1 vehicle</td>\n",
       "      <td>Liability</td>\n",
       "    </tr>\n",
       "    <tr>\n",
       "      <th>11014</th>\n",
       "      <td>Male</td>\n",
       "      <td>Married</td>\n",
       "      <td>64.0</td>\n",
       "      <td>Policy Holder</td>\n",
       "      <td>Utility - Collision</td>\n",
       "      <td>Utility</td>\n",
       "      <td>more than 69000</td>\n",
       "      <td>400</td>\n",
       "      <td>4</td>\n",
       "      <td>more than 30</td>\n",
       "      <td>more than 30</td>\n",
       "      <td>2 to 4</td>\n",
       "      <td>more than 7</td>\n",
       "      <td>51 to 65</td>\n",
       "      <td>No</td>\n",
       "      <td>No</td>\n",
       "      <td>External</td>\n",
       "      <td>more than 5</td>\n",
       "      <td>no change</td>\n",
       "      <td>1 vehicle</td>\n",
       "      <td>Collision</td>\n",
       "    </tr>\n",
       "    <tr>\n",
       "      <th>2131</th>\n",
       "      <td>Male</td>\n",
       "      <td>Single</td>\n",
       "      <td>54.0</td>\n",
       "      <td>Third Party</td>\n",
       "      <td>Sport - Collision</td>\n",
       "      <td>Sport</td>\n",
       "      <td>more than 69000</td>\n",
       "      <td>400</td>\n",
       "      <td>3</td>\n",
       "      <td>more than 30</td>\n",
       "      <td>more than 30</td>\n",
       "      <td>none</td>\n",
       "      <td>7 years</td>\n",
       "      <td>41 to 50</td>\n",
       "      <td>No</td>\n",
       "      <td>No</td>\n",
       "      <td>External</td>\n",
       "      <td>3 to 5</td>\n",
       "      <td>no change</td>\n",
       "      <td>1 vehicle</td>\n",
       "      <td>Collision</td>\n",
       "    </tr>\n",
       "    <tr>\n",
       "      <th>2586</th>\n",
       "      <td>Female</td>\n",
       "      <td>Married</td>\n",
       "      <td>35.0</td>\n",
       "      <td>Policy Holder</td>\n",
       "      <td>Sedan - Collision</td>\n",
       "      <td>Sedan</td>\n",
       "      <td>less than 20000</td>\n",
       "      <td>400</td>\n",
       "      <td>1</td>\n",
       "      <td>more than 30</td>\n",
       "      <td>more than 30</td>\n",
       "      <td>2 to 4</td>\n",
       "      <td>7 years</td>\n",
       "      <td>31 to 35</td>\n",
       "      <td>No</td>\n",
       "      <td>No</td>\n",
       "      <td>External</td>\n",
       "      <td>more than 5</td>\n",
       "      <td>no change</td>\n",
       "      <td>1 vehicle</td>\n",
       "      <td>Collision</td>\n",
       "    </tr>\n",
       "    <tr>\n",
       "      <th>4230</th>\n",
       "      <td>Male</td>\n",
       "      <td>Married</td>\n",
       "      <td>44.0</td>\n",
       "      <td>Policy Holder</td>\n",
       "      <td>Sedan - Liability</td>\n",
       "      <td>Sport</td>\n",
       "      <td>20000 to 29000</td>\n",
       "      <td>400</td>\n",
       "      <td>1</td>\n",
       "      <td>more than 30</td>\n",
       "      <td>more than 30</td>\n",
       "      <td>1</td>\n",
       "      <td>7 years</td>\n",
       "      <td>36 to 40</td>\n",
       "      <td>No</td>\n",
       "      <td>No</td>\n",
       "      <td>External</td>\n",
       "      <td>none</td>\n",
       "      <td>no change</td>\n",
       "      <td>1 vehicle</td>\n",
       "      <td>Liability</td>\n",
       "    </tr>\n",
       "    <tr>\n",
       "      <th>...</th>\n",
       "      <td>...</td>\n",
       "      <td>...</td>\n",
       "      <td>...</td>\n",
       "      <td>...</td>\n",
       "      <td>...</td>\n",
       "      <td>...</td>\n",
       "      <td>...</td>\n",
       "      <td>...</td>\n",
       "      <td>...</td>\n",
       "      <td>...</td>\n",
       "      <td>...</td>\n",
       "      <td>...</td>\n",
       "      <td>...</td>\n",
       "      <td>...</td>\n",
       "      <td>...</td>\n",
       "      <td>...</td>\n",
       "      <td>...</td>\n",
       "      <td>...</td>\n",
       "      <td>...</td>\n",
       "      <td>...</td>\n",
       "      <td>...</td>\n",
       "    </tr>\n",
       "    <tr>\n",
       "      <th>11465</th>\n",
       "      <td>Female</td>\n",
       "      <td>Married</td>\n",
       "      <td>38.0</td>\n",
       "      <td>Third Party</td>\n",
       "      <td>Sedan - Collision</td>\n",
       "      <td>Sedan</td>\n",
       "      <td>less than 20000</td>\n",
       "      <td>400</td>\n",
       "      <td>4</td>\n",
       "      <td>more than 30</td>\n",
       "      <td>more than 30</td>\n",
       "      <td>2 to 4</td>\n",
       "      <td>7 years</td>\n",
       "      <td>36 to 40</td>\n",
       "      <td>No</td>\n",
       "      <td>No</td>\n",
       "      <td>External</td>\n",
       "      <td>3 to 5</td>\n",
       "      <td>no change</td>\n",
       "      <td>1 vehicle</td>\n",
       "      <td>Collision</td>\n",
       "    </tr>\n",
       "    <tr>\n",
       "      <th>578</th>\n",
       "      <td>Male</td>\n",
       "      <td>Married</td>\n",
       "      <td>44.0</td>\n",
       "      <td>Third Party</td>\n",
       "      <td>Sedan - All Perils</td>\n",
       "      <td>Sedan</td>\n",
       "      <td>less than 20000</td>\n",
       "      <td>400</td>\n",
       "      <td>4</td>\n",
       "      <td>more than 30</td>\n",
       "      <td>more than 30</td>\n",
       "      <td>none</td>\n",
       "      <td>7 years</td>\n",
       "      <td>36 to 40</td>\n",
       "      <td>No</td>\n",
       "      <td>No</td>\n",
       "      <td>External</td>\n",
       "      <td>none</td>\n",
       "      <td>no change</td>\n",
       "      <td>1 vehicle</td>\n",
       "      <td>All Perils</td>\n",
       "    </tr>\n",
       "    <tr>\n",
       "      <th>5848</th>\n",
       "      <td>Female</td>\n",
       "      <td>Single</td>\n",
       "      <td>22.0</td>\n",
       "      <td>Policy Holder</td>\n",
       "      <td>Sedan - All Perils</td>\n",
       "      <td>Sedan</td>\n",
       "      <td>20000 to 29000</td>\n",
       "      <td>400</td>\n",
       "      <td>3</td>\n",
       "      <td>more than 30</td>\n",
       "      <td>more than 30</td>\n",
       "      <td>1</td>\n",
       "      <td>5 years</td>\n",
       "      <td>26 to 30</td>\n",
       "      <td>No</td>\n",
       "      <td>No</td>\n",
       "      <td>External</td>\n",
       "      <td>more than 5</td>\n",
       "      <td>4 to 8 years</td>\n",
       "      <td>2 vehicles</td>\n",
       "      <td>All Perils</td>\n",
       "    </tr>\n",
       "    <tr>\n",
       "      <th>2439</th>\n",
       "      <td>Male</td>\n",
       "      <td>Married</td>\n",
       "      <td>46.0</td>\n",
       "      <td>Policy Holder</td>\n",
       "      <td>Sedan - All Perils</td>\n",
       "      <td>Sedan</td>\n",
       "      <td>20000 to 29000</td>\n",
       "      <td>400</td>\n",
       "      <td>4</td>\n",
       "      <td>more than 30</td>\n",
       "      <td>more than 30</td>\n",
       "      <td>none</td>\n",
       "      <td>more than 7</td>\n",
       "      <td>41 to 50</td>\n",
       "      <td>No</td>\n",
       "      <td>No</td>\n",
       "      <td>External</td>\n",
       "      <td>none</td>\n",
       "      <td>no change</td>\n",
       "      <td>1 vehicle</td>\n",
       "      <td>All Perils</td>\n",
       "    </tr>\n",
       "    <tr>\n",
       "      <th>7188</th>\n",
       "      <td>Male</td>\n",
       "      <td>Married</td>\n",
       "      <td>61.0</td>\n",
       "      <td>Policy Holder</td>\n",
       "      <td>Sedan - All Perils</td>\n",
       "      <td>Sedan</td>\n",
       "      <td>less than 20000</td>\n",
       "      <td>400</td>\n",
       "      <td>4</td>\n",
       "      <td>more than 30</td>\n",
       "      <td>more than 30</td>\n",
       "      <td>none</td>\n",
       "      <td>more than 7</td>\n",
       "      <td>51 to 65</td>\n",
       "      <td>No</td>\n",
       "      <td>No</td>\n",
       "      <td>External</td>\n",
       "      <td>none</td>\n",
       "      <td>no change</td>\n",
       "      <td>1 vehicle</td>\n",
       "      <td>All Perils</td>\n",
       "    </tr>\n",
       "  </tbody>\n",
       "</table>\n",
       "<p>11756 rows × 21 columns</p>\n",
       "</div>"
      ],
      "text/plain": [
       "          Sex MaritalStatus   Age          Fault           PolicyType  \\\n",
       "6888   Female       Married  26.0    Third Party    Sedan - Liability   \n",
       "11014    Male       Married  64.0  Policy Holder  Utility - Collision   \n",
       "2131     Male        Single  54.0    Third Party    Sport - Collision   \n",
       "2586   Female       Married  35.0  Policy Holder    Sedan - Collision   \n",
       "4230     Male       Married  44.0  Policy Holder    Sedan - Liability   \n",
       "...       ...           ...   ...            ...                  ...   \n",
       "11465  Female       Married  38.0    Third Party    Sedan - Collision   \n",
       "578      Male       Married  44.0    Third Party   Sedan - All Perils   \n",
       "5848   Female        Single  22.0  Policy Holder   Sedan - All Perils   \n",
       "2439     Male       Married  46.0  Policy Holder   Sedan - All Perils   \n",
       "7188     Male       Married  61.0  Policy Holder   Sedan - All Perils   \n",
       "\n",
       "      VehicleCategory     VehiclePrice  Deductible  DriverRating  \\\n",
       "6888            Sport   20000 to 29000         400             4   \n",
       "11014         Utility  more than 69000         400             4   \n",
       "2131            Sport  more than 69000         400             3   \n",
       "2586            Sedan  less than 20000         400             1   \n",
       "4230            Sport   20000 to 29000         400             1   \n",
       "...               ...              ...         ...           ...   \n",
       "11465           Sedan  less than 20000         400             4   \n",
       "578             Sedan  less than 20000         400             4   \n",
       "5848            Sedan   20000 to 29000         400             3   \n",
       "2439            Sedan   20000 to 29000         400             4   \n",
       "7188            Sedan  less than 20000         400             4   \n",
       "\n",
       "      Days_Policy_Accident Days_Policy_Claim PastNumberOfClaims AgeOfVehicle  \\\n",
       "6888          more than 30      more than 30               none      6 years   \n",
       "11014         more than 30      more than 30             2 to 4  more than 7   \n",
       "2131          more than 30      more than 30               none      7 years   \n",
       "2586          more than 30      more than 30             2 to 4      7 years   \n",
       "4230          more than 30      more than 30                  1      7 years   \n",
       "...                    ...               ...                ...          ...   \n",
       "11465         more than 30      more than 30             2 to 4      7 years   \n",
       "578           more than 30      more than 30               none      7 years   \n",
       "5848          more than 30      more than 30                  1      5 years   \n",
       "2439          more than 30      more than 30               none  more than 7   \n",
       "7188          more than 30      more than 30               none  more than 7   \n",
       "\n",
       "      AgeOfPolicyHolder PoliceReportFiled WitnessPresent AgentType  \\\n",
       "6888           31 to 35                No             No  External   \n",
       "11014          51 to 65                No             No  External   \n",
       "2131           41 to 50                No             No  External   \n",
       "2586           31 to 35                No             No  External   \n",
       "4230           36 to 40                No             No  External   \n",
       "...                 ...               ...            ...       ...   \n",
       "11465          36 to 40                No             No  External   \n",
       "578            36 to 40                No             No  External   \n",
       "5848           26 to 30                No             No  External   \n",
       "2439           41 to 50                No             No  External   \n",
       "7188           51 to 65                No             No  External   \n",
       "\n",
       "      NumberOfSuppliments AddressChange_Claim NumberOfCars  BasePolicy  \n",
       "6888               1 to 2           no change    1 vehicle   Liability  \n",
       "11014         more than 5           no change    1 vehicle   Collision  \n",
       "2131               3 to 5           no change    1 vehicle   Collision  \n",
       "2586          more than 5           no change    1 vehicle   Collision  \n",
       "4230                 none           no change    1 vehicle   Liability  \n",
       "...                   ...                 ...          ...         ...  \n",
       "11465              3 to 5           no change    1 vehicle   Collision  \n",
       "578                  none           no change    1 vehicle  All Perils  \n",
       "5848          more than 5        4 to 8 years   2 vehicles  All Perils  \n",
       "2439                 none           no change    1 vehicle  All Perils  \n",
       "7188                 none           no change    1 vehicle  All Perils  \n",
       "\n",
       "[11756 rows x 21 columns]"
      ]
     },
     "execution_count": 36,
     "metadata": {},
     "output_type": "execute_result"
    }
   ],
   "source": [
    "X_train_trimmed"
   ]
  },
  {
   "cell_type": "markdown",
   "metadata": {},
   "source": [
    "## Splitting Columns (Numerical Columns and Categorical Columns)"
   ]
  },
  {
   "cell_type": "code",
   "execution_count": 37,
   "metadata": {},
   "outputs": [
    {
     "name": "stdout",
     "output_type": "stream",
     "text": [
      "Numeric Columns :  ['Age', 'Deductible', 'DriverRating']\n",
      "Categorical Columns :  ['Sex', 'MaritalStatus', 'Fault', 'PolicyType', 'VehicleCategory', 'VehiclePrice', 'Days_Policy_Accident', 'Days_Policy_Claim', 'PastNumberOfClaims', 'AgeOfVehicle', 'AgeOfPolicyHolder', 'PoliceReportFiled', 'WitnessPresent', 'AgentType', 'NumberOfSuppliments', 'AddressChange_Claim', 'NumberOfCars', 'BasePolicy']\n"
     ]
    }
   ],
   "source": [
    "# Get Numerical and Categorical Columns\n",
    "\n",
    "num_columns = X_train_trimmed.select_dtypes(include=np.number).columns.tolist()\n",
    "cat_columns = X_train_trimmed.select_dtypes(include=['object']).columns.tolist()\n",
    "\n",
    "print('Numeric Columns : ', num_columns)\n",
    "print('Categorical Columns : ', cat_columns)"
   ]
  },
  {
   "cell_type": "code",
   "execution_count": 38,
   "metadata": {},
   "outputs": [],
   "source": [
    "# Split on X_train\n",
    "\n",
    "X_train_trimmed_num = X_train_trimmed[num_columns]\n",
    "X_train_trimmed_cat = X_train_trimmed[cat_columns]\n",
    "\n",
    "# Split on X_test\n",
    "\n",
    "X_test_num = X_test[num_columns]\n",
    "X_test_cat = X_test[cat_columns]"
   ]
  },
  {
   "cell_type": "code",
   "execution_count": 39,
   "metadata": {},
   "outputs": [],
   "source": [
    "# Feature Scaling\n",
    "\n",
    "from sklearn.preprocessing import StandardScaler\n",
    "\n",
    "scaler = StandardScaler()\n",
    "X_train_trimmed_num_scaled = scaler.fit_transform(X_train_trimmed_num)\n",
    "X_test_num_scaled = scaler.transform(X_test_num)"
   ]
  },
  {
   "cell_type": "code",
   "execution_count": 40,
   "metadata": {},
   "outputs": [],
   "source": [
    "from sklearn.preprocessing import OneHotEncoder\n",
    "\n",
    "encoder = OneHotEncoder()\n",
    "X_train_trimmed_cat_encoded = encoder.fit_transform(X_train_trimmed_cat)\n",
    "X_test_cat_encoded = encoder.transform(X_test_cat)"
   ]
  },
  {
   "cell_type": "markdown",
   "metadata": {},
   "source": [
    "## Concatenate between Numerical Columns and Categorical Columns"
   ]
  },
  {
   "cell_type": "code",
   "execution_count": 41,
   "metadata": {},
   "outputs": [],
   "source": [
    "# Untuk model yang memerlukan scaler\n",
    "X_train_final = np.concatenate([X_train_trimmed_num_scaled, X_train_trimmed_cat_encoded.toarray()], axis=1)\n",
    "X_test_final = np.concatenate([X_test_num_scaled, X_test_cat_encoded.toarray()], axis=1)\n"
   ]
  },
  {
   "cell_type": "markdown",
   "metadata": {},
   "source": [
    "# **Model Definition, Training, Evaluation**"
   ]
  },
  {
   "cell_type": "markdown",
   "metadata": {},
   "source": [
    "## Logistic Regression"
   ]
  },
  {
   "cell_type": "code",
   "execution_count": 42,
   "metadata": {},
   "outputs": [
    {
     "name": "stdout",
     "output_type": "stream",
     "text": [
      "---------------------TRAIN---------------------\n",
      "              precision    recall  f1-score   support\n",
      "\n",
      "           0       0.94      1.00      0.97     11073\n",
      "           1       1.00      0.00      0.01       683\n",
      "\n",
      "    accuracy                           0.94     11756\n",
      "   macro avg       0.97      0.50      0.49     11756\n",
      "weighted avg       0.95      0.94      0.91     11756\n",
      "\n",
      "[[11073     0]\n",
      " [  680     3]]\n",
      "---------------------TEST---------------------\n",
      "              precision    recall  f1-score   support\n",
      "\n",
      "           0       0.94      1.00      0.97      2883\n",
      "           1       0.00      0.00      0.00       195\n",
      "\n",
      "    accuracy                           0.94      3078\n",
      "   macro avg       0.47      0.50      0.48      3078\n",
      "weighted avg       0.88      0.94      0.91      3078\n",
      "\n",
      "[[2883    0]\n",
      " [ 195    0]]\n"
     ]
    }
   ],
   "source": [
    "# No Tuning\n",
    "\n",
    "logreg = LogisticRegression(random_state=33) #  Model definition\n",
    "logreg.fit(X_train_final, y_train_trimmed) # Model Training\n",
    "\n",
    "# Model Evaluation\n",
    "y_pred_train_logreg = logreg.predict(X_train_final)\n",
    "y_pred_test_logreg = logreg.predict(X_test_final)\n",
    "\n",
    "print('---------------------TRAIN---------------------')\n",
    "print(classification_report(y_train_trimmed, y_pred_train_logreg))\n",
    "print(confusion_matrix(y_train_trimmed, y_pred_train_logreg))\n",
    "print('---------------------TEST---------------------')\n",
    "print(classification_report(y_test, y_pred_test_logreg))\n",
    "print(confusion_matrix(y_test, y_pred_test_logreg))"
   ]
  },
  {
   "cell_type": "code",
   "execution_count": 43,
   "metadata": {},
   "outputs": [
    {
     "name": "stdout",
     "output_type": "stream",
     "text": [
      "[[2883    0]\n",
      " [ 195    0]]\n"
     ]
    }
   ],
   "source": [
    "print(confusion_matrix(y_test, y_pred_test_logreg))"
   ]
  },
  {
   "cell_type": "code",
   "execution_count": 44,
   "metadata": {},
   "outputs": [
    {
     "data": {
      "text/plain": [
       "GridSearchCV(cv=5, estimator=LogisticRegression(),\n",
       "             param_grid={'C': [0.001, 0.01, 0.1, 1, 10, 100, 1000],\n",
       "                         'class_weight': ['balanced'], 'penalty': ['l1', 'l2'],\n",
       "                         'solver': ['liblinear', 'newton-cg', 'lbfgs']})"
      ]
     },
     "execution_count": 44,
     "metadata": {},
     "output_type": "execute_result"
    }
   ],
   "source": [
    "# Tuning\n",
    "\n",
    "log_reg_params={'penalty':['l1','l2'], \n",
    "                'C':[0.001, 0.01, 0.1, 1, 10, 100, 1000],\n",
    "                'solver': ['liblinear', 'newton-cg', 'lbfgs'],\n",
    "                'class_weight':[\"balanced\"]}\n",
    "grid_log_reg = GridSearchCV(LogisticRegression(), log_reg_params, cv=5)\n",
    "grid_log_reg.fit(X_train_final, y_train_trimmed)"
   ]
  },
  {
   "cell_type": "code",
   "execution_count": 45,
   "metadata": {},
   "outputs": [
    {
     "data": {
      "text/plain": [
       "LogisticRegression(C=0.001, class_weight='balanced', penalty='l1',\n",
       "                   solver='liblinear')"
      ]
     },
     "execution_count": 45,
     "metadata": {},
     "output_type": "execute_result"
    }
   ],
   "source": [
    "grid_log_reg_best= grid_log_reg.best_estimator_\n",
    "grid_log_reg_best"
   ]
  },
  {
   "cell_type": "code",
   "execution_count": 46,
   "metadata": {},
   "outputs": [
    {
     "name": "stdout",
     "output_type": "stream",
     "text": [
      "---------------------TRAIN---------------------\n",
      "              precision    recall  f1-score   support\n",
      "\n",
      "           0       0.94      1.00      0.97     11073\n",
      "           1       0.00      0.00      0.00       683\n",
      "\n",
      "    accuracy                           0.94     11756\n",
      "   macro avg       0.47      0.50      0.49     11756\n",
      "weighted avg       0.89      0.94      0.91     11756\n",
      "\n",
      "[[11073     0]\n",
      " [  683     0]]\n",
      "---------------------TEST---------------------\n",
      "              precision    recall  f1-score   support\n",
      "\n",
      "           0       0.94      1.00      0.97      2883\n",
      "           1       0.00      0.00      0.00       195\n",
      "\n",
      "    accuracy                           0.94      3078\n",
      "   macro avg       0.47      0.50      0.48      3078\n",
      "weighted avg       0.88      0.94      0.91      3078\n",
      "\n",
      "[[2883    0]\n",
      " [ 195    0]]\n"
     ]
    }
   ],
   "source": [
    "y_train_pred_grid_log_reg = grid_log_reg_best.predict(X_train_final)\n",
    "y_test_pred_grid_log_reg = grid_log_reg_best.predict(X_test_final)\n",
    "\n",
    "print('---------------------TRAIN---------------------')\n",
    "print(classification_report(y_train_trimmed, y_train_pred_grid_log_reg))\n",
    "print(confusion_matrix(y_train_trimmed, y_train_pred_grid_log_reg))\n",
    "print('---------------------TEST---------------------')\n",
    "print(classification_report(y_test, y_test_pred_grid_log_reg))\n",
    "print(confusion_matrix(y_test, y_test_pred_grid_log_reg))"
   ]
  },
  {
   "cell_type": "markdown",
   "metadata": {},
   "source": [
    "## Decision Tree Classifier"
   ]
  },
  {
   "cell_type": "code",
   "execution_count": 47,
   "metadata": {},
   "outputs": [
    {
     "data": {
      "text/plain": [
       "DecisionTreeClassifier(random_state=33)"
      ]
     },
     "execution_count": 47,
     "metadata": {},
     "output_type": "execute_result"
    }
   ],
   "source": [
    "# No Tuning\n",
    "\n",
    "tree_clf = DecisionTreeClassifier(random_state=33)\n",
    "tree_clf.fit(X_train_final, y_train_trimmed)\n",
    "\n"
   ]
  },
  {
   "cell_type": "code",
   "execution_count": 48,
   "metadata": {},
   "outputs": [
    {
     "name": "stdout",
     "output_type": "stream",
     "text": [
      "---------------------TRAIN---------------------\n",
      "              precision    recall  f1-score   support\n",
      "\n",
      "           0       1.00      1.00      1.00     11073\n",
      "           1       1.00      0.92      0.96       683\n",
      "\n",
      "    accuracy                           1.00     11756\n",
      "   macro avg       1.00      0.96      0.98     11756\n",
      "weighted avg       1.00      1.00      1.00     11756\n",
      "\n",
      "[[11073     0]\n",
      " [   53   630]]\n",
      "---------------------TEST---------------------\n",
      "              precision    recall  f1-score   support\n",
      "\n",
      "           0       0.95      0.94      0.94      2883\n",
      "           1       0.19      0.21      0.20       195\n",
      "\n",
      "    accuracy                           0.89      3078\n",
      "   macro avg       0.57      0.57      0.57      3078\n",
      "weighted avg       0.90      0.89      0.90      3078\n",
      "\n",
      "[[2713  170]\n",
      " [ 155   40]]\n"
     ]
    }
   ],
   "source": [
    "y_pred_train_tree_clf = tree_clf.predict(X_train_final)\n",
    "y_pred_test_tree_clf = tree_clf.predict(X_test_final)\n",
    "\n",
    "print('---------------------TRAIN---------------------')\n",
    "print(classification_report(y_train_trimmed, y_pred_train_tree_clf))\n",
    "print(confusion_matrix(y_train_trimmed, y_pred_train_tree_clf))\n",
    "print('---------------------TEST---------------------')\n",
    "print(classification_report(y_test, y_pred_test_tree_clf))\n",
    "print(confusion_matrix(y_test, y_pred_test_tree_clf))"
   ]
  },
  {
   "cell_type": "code",
   "execution_count": 49,
   "metadata": {},
   "outputs": [
    {
     "data": {
      "text/plain": [
       "GridSearchCV(cv=5, estimator=DecisionTreeClassifier(),\n",
       "             param_grid={'criterion': ['gini', 'entropy'],\n",
       "                         'max_depth': array([2, 3, 4, 5, 6, 7, 8, 9]),\n",
       "                         'min_samples_leaf': array([2, 3, 4, 5, 6, 7, 8, 9]),\n",
       "                         'min_samples_split': array([2, 3, 4, 5, 6, 7, 8, 9])})"
      ]
     },
     "execution_count": 49,
     "metadata": {},
     "output_type": "execute_result"
    }
   ],
   "source": [
    "# Tuning\n",
    "\n",
    "params_tree_clf = {'criterion':['gini','entropy'],\n",
    "              'max_depth':np.arange(2,10),\n",
    "              'min_samples_split':np.arange(2,10),\n",
    "              'min_samples_leaf':np.arange(2,10)\n",
    "              }\n",
    "\n",
    "tree_clf_grid = GridSearchCV(DecisionTreeClassifier(), params_tree_clf, cv=5)\n",
    "tree_clf_grid.fit(X_train_final, y_train_trimmed)"
   ]
  },
  {
   "cell_type": "code",
   "execution_count": 50,
   "metadata": {},
   "outputs": [
    {
     "data": {
      "text/plain": [
       "DecisionTreeClassifier(max_depth=2, min_samples_leaf=2)"
      ]
     },
     "execution_count": 50,
     "metadata": {},
     "output_type": "execute_result"
    }
   ],
   "source": [
    "tree_clf_grid_best= tree_clf_grid.best_estimator_\n",
    "tree_clf_grid_best"
   ]
  },
  {
   "cell_type": "code",
   "execution_count": 51,
   "metadata": {},
   "outputs": [
    {
     "name": "stdout",
     "output_type": "stream",
     "text": [
      "---------------------TRAIN---------------------\n",
      "              precision    recall  f1-score   support\n",
      "\n",
      "           0       0.94      1.00      0.97     11073\n",
      "           1       0.00      0.00      0.00       683\n",
      "\n",
      "    accuracy                           0.94     11756\n",
      "   macro avg       0.47      0.50      0.49     11756\n",
      "weighted avg       0.89      0.94      0.91     11756\n",
      "\n",
      "[[11073     0]\n",
      " [  683     0]]\n",
      "---------------------TEST---------------------\n",
      "              precision    recall  f1-score   support\n",
      "\n",
      "           0       0.94      1.00      0.97      2883\n",
      "           1       0.00      0.00      0.00       195\n",
      "\n",
      "    accuracy                           0.94      3078\n",
      "   macro avg       0.47      0.50      0.48      3078\n",
      "weighted avg       0.88      0.94      0.91      3078\n",
      "\n",
      "[[2883    0]\n",
      " [ 195    0]]\n"
     ]
    }
   ],
   "source": [
    "y_pred_train_tree_clf_grid = tree_clf_grid.predict(X_train_final)\n",
    "y_pred_test_tree_clf_grid = tree_clf_grid.predict(X_test_final)\n",
    "\n",
    "print('---------------------TRAIN---------------------')\n",
    "print(classification_report(y_train_trimmed, y_pred_train_tree_clf_grid))\n",
    "print(confusion_matrix(y_train_trimmed, y_pred_train_tree_clf_grid))\n",
    "print('---------------------TEST---------------------')\n",
    "print(classification_report(y_test, y_pred_test_tree_clf_grid))\n",
    "print(confusion_matrix(y_test, y_pred_test_tree_clf_grid))"
   ]
  },
  {
   "cell_type": "markdown",
   "metadata": {},
   "source": [
    "## KNN"
   ]
  },
  {
   "cell_type": "code",
   "execution_count": 52,
   "metadata": {},
   "outputs": [
    {
     "data": {
      "text/plain": [
       "KNeighborsClassifier()"
      ]
     },
     "execution_count": 52,
     "metadata": {},
     "output_type": "execute_result"
    }
   ],
   "source": [
    "# No tuning\n",
    "neigh = KNeighborsClassifier()\n",
    "neigh.fit(X_train_final, y_train_trimmed)"
   ]
  },
  {
   "cell_type": "code",
   "execution_count": 53,
   "metadata": {},
   "outputs": [
    {
     "name": "stdout",
     "output_type": "stream",
     "text": [
      "---------------------TRAIN---------------------\n",
      "              precision    recall  f1-score   support\n",
      "\n",
      "           0       0.95      1.00      0.97     11073\n",
      "           1       0.66      0.13      0.22       683\n",
      "\n",
      "    accuracy                           0.95     11756\n",
      "   macro avg       0.81      0.56      0.59     11756\n",
      "weighted avg       0.93      0.95      0.93     11756\n",
      "\n",
      "[[11028    45]\n",
      " [  594    89]]\n",
      "---------------------TEST---------------------\n",
      "              precision    recall  f1-score   support\n",
      "\n",
      "           0       0.94      0.99      0.96      2883\n",
      "           1       0.25      0.04      0.06       195\n",
      "\n",
      "    accuracy                           0.93      3078\n",
      "   macro avg       0.59      0.51      0.51      3078\n",
      "weighted avg       0.89      0.93      0.91      3078\n",
      "\n",
      "[[2862   21]\n",
      " [ 188    7]]\n"
     ]
    }
   ],
   "source": [
    "y_pred_train_neigh = neigh.predict(X_train_final)\n",
    "y_pred_test_neigh = neigh.predict(X_test_final)\n",
    "\n",
    "print('---------------------TRAIN---------------------')\n",
    "print(classification_report(y_train_trimmed, y_pred_train_neigh))\n",
    "print(confusion_matrix(y_train_trimmed, y_pred_train_neigh))\n",
    "print('---------------------TEST---------------------')\n",
    "print(classification_report(y_test, y_pred_test_neigh))\n",
    "print(confusion_matrix(y_test, y_pred_test_neigh))"
   ]
  },
  {
   "cell_type": "code",
   "execution_count": 54,
   "metadata": {},
   "outputs": [
    {
     "data": {
      "text/plain": [
       "GridSearchCV(estimator=KNeighborsClassifier(),\n",
       "             param_grid=[{'n_neighbors': [2, 3, 4, 5, 6],\n",
       "                          'weights': ['uniform', 'distance']}])"
      ]
     },
     "execution_count": 54,
     "metadata": {},
     "output_type": "execute_result"
    }
   ],
   "source": [
    "# Tuning \n",
    "params_neigh=[{'n_neighbors': [2,3,4,5,6], \n",
    "            'weights': ['uniform','distance']}]\n",
    "\n",
    "neigh_grid = GridSearchCV(KNeighborsClassifier(), params_neigh)\n",
    "neigh_grid.fit(X_train_final, y_train_trimmed)"
   ]
  },
  {
   "cell_type": "code",
   "execution_count": 55,
   "metadata": {},
   "outputs": [
    {
     "name": "stdout",
     "output_type": "stream",
     "text": [
      "---------------------TRAIN---------------------\n",
      "              precision    recall  f1-score   support\n",
      "\n",
      "           0       0.94      1.00      0.97     11073\n",
      "           1       0.67      0.03      0.06       683\n",
      "\n",
      "    accuracy                           0.94     11756\n",
      "   macro avg       0.81      0.51      0.51     11756\n",
      "weighted avg       0.93      0.94      0.92     11756\n",
      "\n",
      "[[11063    10]\n",
      " [  663    20]]\n",
      "---------------------TEST---------------------\n",
      "              precision    recall  f1-score   support\n",
      "\n",
      "           0       0.94      1.00      0.97      2883\n",
      "           1       0.43      0.02      0.03       195\n",
      "\n",
      "    accuracy                           0.94      3078\n",
      "   macro avg       0.68      0.51      0.50      3078\n",
      "weighted avg       0.91      0.94      0.91      3078\n",
      "\n",
      "[[2879    4]\n",
      " [ 192    3]]\n"
     ]
    }
   ],
   "source": [
    "y_pred_train_neigh_grid = neigh_grid.predict(X_train_final)\n",
    "y_pred_test_neigh_grid = neigh_grid.predict(X_test_final)\n",
    "\n",
    "print('---------------------TRAIN---------------------')\n",
    "print(classification_report(y_train_trimmed, y_pred_train_neigh_grid))\n",
    "print(confusion_matrix(y_train_trimmed, y_pred_train_neigh_grid))\n",
    "print('---------------------TEST---------------------')\n",
    "print(classification_report(y_test, y_pred_test_neigh_grid))\n",
    "print(confusion_matrix(y_test, y_pred_test_neigh_grid))"
   ]
  },
  {
   "cell_type": "markdown",
   "metadata": {},
   "source": [
    "## Random Forest"
   ]
  },
  {
   "cell_type": "code",
   "execution_count": 56,
   "metadata": {},
   "outputs": [
    {
     "data": {
      "text/plain": [
       "RandomForestClassifier(random_state=33)"
      ]
     },
     "execution_count": 56,
     "metadata": {},
     "output_type": "execute_result"
    }
   ],
   "source": [
    "# No tuning\n",
    "for_clf=RandomForestClassifier(random_state=33)\n",
    "for_clf.fit (X_train_final, y_train_trimmed)"
   ]
  },
  {
   "cell_type": "code",
   "execution_count": 57,
   "metadata": {},
   "outputs": [
    {
     "name": "stdout",
     "output_type": "stream",
     "text": [
      "---------------------TRAIN---------------------\n",
      "              precision    recall  f1-score   support\n",
      "\n",
      "           0       1.00      1.00      1.00     11073\n",
      "           1       0.99      0.94      0.96       683\n",
      "\n",
      "    accuracy                           1.00     11756\n",
      "   macro avg       0.99      0.97      0.98     11756\n",
      "weighted avg       1.00      1.00      1.00     11756\n",
      "\n",
      "[[11064     9]\n",
      " [   44   639]]\n",
      "---------------------TEST---------------------\n",
      "              precision    recall  f1-score   support\n",
      "\n",
      "           0       0.94      0.99      0.96      2883\n",
      "           1       0.21      0.05      0.08       195\n",
      "\n",
      "    accuracy                           0.93      3078\n",
      "   macro avg       0.58      0.52      0.52      3078\n",
      "weighted avg       0.89      0.93      0.91      3078\n",
      "\n",
      "[[2846   37]\n",
      " [ 185   10]]\n"
     ]
    }
   ],
   "source": [
    "y_pred_train_for_clf = for_clf.predict(X_train_final)\n",
    "y_pred_test_for_clf = for_clf.predict(X_test_final)\n",
    "\n",
    "print('---------------------TRAIN---------------------')\n",
    "print(classification_report(y_train_trimmed, y_pred_train_for_clf))\n",
    "print(confusion_matrix(y_train_trimmed, y_pred_train_for_clf))\n",
    "print('---------------------TEST---------------------')\n",
    "print(classification_report(y_test, y_pred_test_for_clf))\n",
    "print(confusion_matrix(y_test, y_pred_test_for_clf))"
   ]
  },
  {
   "cell_type": "code",
   "execution_count": 58,
   "metadata": {},
   "outputs": [
    {
     "data": {
      "text/plain": [
       "GridSearchCV(estimator=RandomForestClassifier(),\n",
       "             param_grid={'criterion': ['gini', 'entropy'],\n",
       "                         'max_depth': array([2, 3, 4]),\n",
       "                         'max_features': ['auto', 'sqrt', 'log2'],\n",
       "                         'min_samples_split': [2, 4, 6, 8]})"
      ]
     },
     "execution_count": 58,
     "metadata": {},
     "output_type": "execute_result"
    }
   ],
   "source": [
    "# Tuning\n",
    "\n",
    "params_for_clf = { 'criterion': ['gini', 'entropy'], \n",
    "                'min_samples_split': [2, 4, 6, 8], \n",
    "                'max_depth': np.arange(2,5), \n",
    "                'max_features': ['auto', 'sqrt', 'log2']}\n",
    "\n",
    "for_clf_grid = GridSearchCV(RandomForestClassifier(), params_for_clf)\n",
    "for_clf_grid.fit(X_train_final, y_train_trimmed)"
   ]
  },
  {
   "cell_type": "code",
   "execution_count": 59,
   "metadata": {},
   "outputs": [
    {
     "name": "stdout",
     "output_type": "stream",
     "text": [
      "---------------------TRAIN---------------------\n",
      "              precision    recall  f1-score   support\n",
      "\n",
      "           0       0.94      1.00      0.97     11073\n",
      "           1       0.00      0.00      0.00       683\n",
      "\n",
      "    accuracy                           0.94     11756\n",
      "   macro avg       0.47      0.50      0.49     11756\n",
      "weighted avg       0.89      0.94      0.91     11756\n",
      "\n",
      "[[11073     0]\n",
      " [  683     0]]\n",
      "---------------------TEST---------------------\n",
      "              precision    recall  f1-score   support\n",
      "\n",
      "           0       0.94      1.00      0.97      2883\n",
      "           1       0.00      0.00      0.00       195\n",
      "\n",
      "    accuracy                           0.94      3078\n",
      "   macro avg       0.47      0.50      0.48      3078\n",
      "weighted avg       0.88      0.94      0.91      3078\n",
      "\n",
      "[[2883    0]\n",
      " [ 195    0]]\n"
     ]
    }
   ],
   "source": [
    "y_pred_train_for_clf_grid = for_clf_grid.predict(X_train_final)\n",
    "y_pred_test_for_clf_grid = for_clf_grid.predict(X_test_final)\n",
    "\n",
    "print('---------------------TRAIN---------------------')\n",
    "print(classification_report(y_train_trimmed, y_pred_train_for_clf_grid))\n",
    "print(confusion_matrix(y_train_trimmed, y_pred_train_for_clf_grid))\n",
    "print('---------------------TEST---------------------')\n",
    "print(classification_report(y_test, y_pred_test_for_clf_grid))\n",
    "print(confusion_matrix(y_test, y_pred_test_for_clf_grid))"
   ]
  },
  {
   "cell_type": "code",
   "execution_count": 60,
   "metadata": {},
   "outputs": [
    {
     "data": {
      "text/plain": [
       "Text(0.5, 1.0, 'Test Random Forest Tuning')"
      ]
     },
     "execution_count": 60,
     "metadata": {},
     "output_type": "execute_result"
    },
    {
     "data": {
      "image/png": "[encoded data removed]",
      "text/plain": [
       "<Figure size 1440x360 with 4 Axes>"
      ]
     },
     "metadata": {
      "needs_background": "light"
     },
     "output_type": "display_data"
    },
    {
     "data": {
      "image/png": "[encoded data removed]",
      "text/plain": [
       "<Figure size 1440x360 with 4 Axes>"
      ]
     },
     "metadata": {
      "needs_background": "light"
     },
     "output_type": "display_data"
    },
    {
     "data": {
      "image/png": "[encoded data removed]",
      "text/plain": [
       "<Figure size 1440x360 with 4 Axes>"
      ]
     },
     "metadata": {
      "needs_background": "light"
     },
     "output_type": "display_data"
    },
    {
     "data": {
      "image/png": "[encoded data removed]",
      "text/plain": [
       "<Figure size 1440x360 with 4 Axes>"
      ]
     },
     "metadata": {
      "needs_background": "light"
     },
     "output_type": "display_data"
    }
   ],
   "source": [
    "#plotting confusion matrix\n",
    "plt.figure(figsize=(20,5))\n",
    "plt.subplot(1,2,1)\n",
    "logreg_matrix1= confusion_matrix(y_test, y_pred_test_logreg)\n",
    "ax = sns.heatmap(logreg_matrix1, annot=True, cmap='Blues', fmt='g', annot_kws={\"fontsize\":14})\n",
    "ax.set_xlabel('Predicted labels')\n",
    "ax.set_ylabel('Actual labels')\n",
    "ax.set_xticklabels([\"Negatif\", \"Positif\"])\n",
    "ax.set_yticklabels([\"Negatif\", \"Positif\"])\n",
    "plt.title(\"Test LogReg\")\n",
    "\n",
    "plt.subplot(1,2,2)\n",
    "logreg_matrix2= confusion_matrix(y_test, y_test_pred_grid_log_reg)\n",
    "ax = sns.heatmap(logreg_matrix2, annot=True, cmap='rocket_r', fmt='g', annot_kws={\"fontsize\":14})\n",
    "ax.set_xlabel('Predicted labels')\n",
    "ax.set_ylabel('Actual labels')\n",
    "ax.set_xticklabels([\"Negatif\", \"Positif\"])\n",
    "ax.set_yticklabels([\"Negatif\", \"Positif\"])\n",
    "plt.title(\"Test LogReg Tuning\")\n",
    "\n",
    "\n",
    "plt.figure(figsize=(20,5))\n",
    "plt.subplot(1,2,1)\n",
    "tree_clf_matrix1= confusion_matrix(y_test, y_pred_test_tree_clf)\n",
    "ax = sns.heatmap(tree_clf_matrix1, annot=True, cmap='Blues', fmt='g', annot_kws={\"fontsize\":14})\n",
    "ax.set_xlabel('Predicted labels')\n",
    "ax.set_ylabel('Actual labels')\n",
    "ax.set_xticklabels([\"Negatif\", \"Positif\"])\n",
    "ax.set_yticklabels([\"Negatif\", \"Positif\"])\n",
    "plt.title(\"Test Decision Tree\")\n",
    "\n",
    "plt.subplot(1,2,2)\n",
    "tree_clf_matrix2= confusion_matrix(y_test, y_pred_test_tree_clf_grid)\n",
    "ax = sns.heatmap(tree_clf_matrix2, annot=True, cmap='rocket_r', fmt='g', annot_kws={\"fontsize\":14})\n",
    "ax.set_xlabel('Predicted labels')\n",
    "ax.set_ylabel('Actual labels')\n",
    "ax.set_xticklabels([\"Negatif\", \"Positif\"])\n",
    "ax.set_yticklabels([\"Negatif\", \"Positif\"])\n",
    "plt.title(\"Test Decision Tree Tuning\")\n",
    "\n",
    "plt.figure(figsize=(20,5))\n",
    "plt.subplot(1,2,1)\n",
    "neigh_matrix1= confusion_matrix(y_test, y_pred_test_neigh)\n",
    "ax = sns.heatmap(neigh_matrix1, annot=True, cmap='Blues', fmt='g', annot_kws={\"fontsize\":14})\n",
    "ax.set_xlabel('Predicted labels')\n",
    "ax.set_ylabel('Actual labels')\n",
    "ax.set_xticklabels([\"Negatif\", \"Positif\"])\n",
    "ax.set_yticklabels([\"Negatif\", \"Positif\"])\n",
    "plt.title(\"Test KNN\")\n",
    "\n",
    "plt.subplot(1,2,2)\n",
    "neigh_matrix2= confusion_matrix(y_test, y_pred_test_neigh_grid)\n",
    "ax = sns.heatmap(neigh_matrix2, annot=True, cmap='rocket_r', fmt='g', annot_kws={\"fontsize\":14})\n",
    "ax.set_xlabel('Predicted labels')\n",
    "ax.set_ylabel('Actual labels')\n",
    "ax.set_xticklabels([\"Negatif\", \"Positif\"])\n",
    "ax.set_yticklabels([\"Negatif\", \"Positif\"])\n",
    "plt.title(\"Test KNN Tuning\")\n",
    "\n",
    "plt.figure(figsize=(20,5))\n",
    "plt.subplot(1,2,1)\n",
    "for_clf_matrix1= confusion_matrix(y_test, y_pred_test_for_clf)\n",
    "ax = sns.heatmap(for_clf_matrix1, annot=True, cmap='Blues', fmt='g', annot_kws={\"fontsize\":14})\n",
    "ax.set_xlabel('Predicted labels')\n",
    "ax.set_ylabel('Actual labels')\n",
    "ax.set_xticklabels([\"Negatif\", \"Positif\"])\n",
    "ax.set_yticklabels([\"Negatif\", \"Positif\"])\n",
    "plt.title(\"Test Random Forest\")\n",
    "\n",
    "plt.subplot(1,2,2)\n",
    "for_clf_matrix2= confusion_matrix(y_test, y_pred_test_for_clf_grid)\n",
    "ax = sns.heatmap(for_clf_matrix2, annot=True, cmap='rocket_r', fmt='g', annot_kws={\"fontsize\":14})\n",
    "ax.set_xlabel('Predicted labels')\n",
    "ax.set_ylabel('Actual labels')\n",
    "ax.set_xticklabels([\"Negatif\", \"Positif\"])\n",
    "ax.set_yticklabels([\"Negatif\", \"Positif\"])\n",
    "plt.title(\"Test Random Forest Tuning\")\n"
   ]
  },
  {
   "cell_type": "markdown",
   "metadata": {},
   "source": [
    "- Dari 4 model yang di buat, bisa dibiling semua model memiliki hasil yang tidak begitu berbeda jauh. terutama dalam mengenali kasus fraud. Hali ini terjadi dikarenakan data yang di uji tergolong imbalance, sehingga model sulit untuk mengenali kasus fraud. \n",
    "- namun apabila kita ingin mendapatkan model yang mampu mengenali kasus fraud walau pun kecil, kita dapat menggunakan model Decision Tree, namun resikonya adalah model sedikit melakukan kesalahan dalam mengenali kasus yg bukan fraud, sehingga yg bukan fraud ini dinyatakan fraud menurut model. "
   ]
  },
  {
   "cell_type": "markdown",
   "metadata": {},
   "source": [
    "# **Pipeline**"
   ]
  },
  {
   "cell_type": "code",
   "execution_count": 61,
   "metadata": {},
   "outputs": [],
   "source": [
    "num_pipeline = make_pipeline(StandardScaler())\n",
    "cat_pipeline = make_pipeline(OneHotEncoder())\n",
    "\n",
    "\n",
    "data_pipeline = ColumnTransformer([\n",
    "    ('pipe_num', num_pipeline, num_columns),\n",
    "    ('pipe_cat', cat_pipeline, cat_columns),\n",
    "])\n",
    "\n",
    "\n",
    "# Final pipeline\n",
    "pipe_tree_clf = make_pipeline(data_pipeline, tree_clf)"
   ]
  },
  {
   "cell_type": "code",
   "execution_count": 62,
   "metadata": {},
   "outputs": [
    {
     "name": "stdout",
     "output_type": "stream",
     "text": [
      "---------------------TRAIN---------------------\n",
      "              precision    recall  f1-score   support\n",
      "\n",
      "           0       1.00      1.00      1.00     11073\n",
      "           1       1.00      0.92      0.96       683\n",
      "\n",
      "    accuracy                           1.00     11756\n",
      "   macro avg       1.00      0.96      0.98     11756\n",
      "weighted avg       1.00      1.00      1.00     11756\n",
      "\n",
      "[[11073     0]\n",
      " [   53   630]]\n",
      "---------------------TEST---------------------\n",
      "              precision    recall  f1-score   support\n",
      "\n",
      "           0       0.95      0.94      0.94      2883\n",
      "           1       0.19      0.21      0.20       195\n",
      "\n",
      "    accuracy                           0.89      3078\n",
      "   macro avg       0.57      0.57      0.57      3078\n",
      "weighted avg       0.90      0.89      0.90      3078\n",
      "\n",
      "[[2713  170]\n",
      " [ 155   40]]\n"
     ]
    }
   ],
   "source": [
    "pipe_tree_clf.fit(X_train_trimmed, y_train_trimmed)\n",
    "\n",
    "y_pred_train_pipe_tree_clf = pipe_tree_clf.predict(X_train_trimmed)\n",
    "y_pred_test_pipe_tree_clf = pipe_tree_clf.predict(X_test)\n",
    "\n",
    "print('---------------------TRAIN---------------------')\n",
    "print(classification_report(y_train_trimmed, y_pred_train_pipe_tree_clf))\n",
    "print(confusion_matrix(y_train_trimmed, y_pred_train_pipe_tree_clf))\n",
    "print('---------------------TEST---------------------')\n",
    "print(classification_report(y_test, y_pred_test_pipe_tree_clf))\n",
    "print(confusion_matrix(y_test, y_pred_test_pipe_tree_clf))"
   ]
  },
  {
   "cell_type": "code",
   "execution_count": 63,
   "metadata": {},
   "outputs": [],
   "source": [
    "with open(\"full_pipe.pkl\", \"wb\") as f:\n",
    "    pickle.dump(pipe_tree_clf, f)"
   ]
  },
  {
   "cell_type": "markdown",
   "metadata": {},
   "source": [
    "# **Model Inference**"
   ]
  },
  {
   "cell_type": "code",
   "execution_count": 64,
   "metadata": {},
   "outputs": [
    {
     "data": {
      "text/plain": [
       "Month                   0\n",
       "WeekOfMonth             0\n",
       "DayOfWeek               0\n",
       "Make                    0\n",
       "AccidentArea            0\n",
       "DayOfWeekClaimed        0\n",
       "MonthClaimed            0\n",
       "WeekOfMonthClaimed      0\n",
       "Sex                     0\n",
       "MaritalStatus           0\n",
       "Age                     1\n",
       "Fault                   0\n",
       "PolicyType              0\n",
       "VehicleCategory         0\n",
       "VehiclePrice            0\n",
       "FraudFound_P            0\n",
       "PolicyNumber            0\n",
       "RepNumber               0\n",
       "Deductible              0\n",
       "DriverRating            0\n",
       "Days_Policy_Accident    0\n",
       "Days_Policy_Claim       0\n",
       "PastNumberOfClaims      0\n",
       "AgeOfVehicle            0\n",
       "AgeOfPolicyHolder       0\n",
       "PoliceReportFiled       0\n",
       "WitnessPresent          0\n",
       "AgentType               0\n",
       "NumberOfSuppliments     0\n",
       "AddressChange_Claim     0\n",
       "NumberOfCars            0\n",
       "Year                    0\n",
       "BasePolicy              0\n",
       "dtype: int64"
      ]
     },
     "execution_count": 64,
     "metadata": {},
     "output_type": "execute_result"
    }
   ],
   "source": [
    "df_inf.isna().sum()"
   ]
  },
  {
   "cell_type": "code",
   "execution_count": 65,
   "metadata": {},
   "outputs": [
    {
     "data": {
      "text/plain": [
       "0.9442326109777719"
      ]
     },
     "execution_count": 65,
     "metadata": {},
     "output_type": "execute_result"
    }
   ],
   "source": [
    "df_inf['Age'].skew()"
   ]
  },
  {
   "cell_type": "code",
   "execution_count": 66,
   "metadata": {},
   "outputs": [],
   "source": [
    "df_inf['Age'].fillna(df_inf['Age'].median(), inplace=True)"
   ]
  },
  {
   "cell_type": "code",
   "execution_count": 67,
   "metadata": {},
   "outputs": [],
   "source": [
    "with open(\"full_pipe.pkl\", \"rb\") as f:\n",
    "    pipeline = pickle.load(f)"
   ]
  },
  {
   "cell_type": "code",
   "execution_count": 68,
   "metadata": {},
   "outputs": [],
   "source": [
    "y_pred_inf = pipeline.predict(df_inf)\n",
    "y_pred_inf = pd.DataFrame(y_pred_inf, columns=['Peridict_FraudFound_P'])"
   ]
  },
  {
   "cell_type": "code",
   "execution_count": 69,
   "metadata": {},
   "outputs": [],
   "source": [
    "# Concate to Original Dataframe\n",
    "df_inf_result = pd.concat([df_inf, y_pred_inf], axis=1)"
   ]
  },
  {
   "cell_type": "code",
   "execution_count": 70,
   "metadata": {},
   "outputs": [
    {
     "data": {
      "text/html": [
       "<div>\n",
       "<style scoped>\n",
       "    .dataframe tbody tr th:only-of-type {\n",
       "        vertical-align: middle;\n",
       "    }\n",
       "\n",
       "    .dataframe tbody tr th {\n",
       "        vertical-align: top;\n",
       "    }\n",
       "\n",
       "    .dataframe thead th {\n",
       "        text-align: right;\n",
       "    }\n",
       "</style>\n",
       "<table border=\"1\" class=\"dataframe\">\n",
       "  <thead>\n",
       "    <tr style=\"text-align: right;\">\n",
       "      <th></th>\n",
       "      <th>AccidentArea</th>\n",
       "      <th>DriverRating</th>\n",
       "      <th>FraudFound_P</th>\n",
       "      <th>Peridict_FraudFound_P</th>\n",
       "    </tr>\n",
       "  </thead>\n",
       "  <tbody>\n",
       "    <tr>\n",
       "      <th>0</th>\n",
       "      <td>Urban</td>\n",
       "      <td>4</td>\n",
       "      <td>0</td>\n",
       "      <td>0</td>\n",
       "    </tr>\n",
       "    <tr>\n",
       "      <th>1</th>\n",
       "      <td>Urban</td>\n",
       "      <td>4</td>\n",
       "      <td>0</td>\n",
       "      <td>0</td>\n",
       "    </tr>\n",
       "    <tr>\n",
       "      <th>2</th>\n",
       "      <td>Urban</td>\n",
       "      <td>3</td>\n",
       "      <td>0</td>\n",
       "      <td>0</td>\n",
       "    </tr>\n",
       "    <tr>\n",
       "      <th>3</th>\n",
       "      <td>Urban</td>\n",
       "      <td>3</td>\n",
       "      <td>0</td>\n",
       "      <td>0</td>\n",
       "    </tr>\n",
       "    <tr>\n",
       "      <th>4</th>\n",
       "      <td>Urban</td>\n",
       "      <td>4</td>\n",
       "      <td>0</td>\n",
       "      <td>0</td>\n",
       "    </tr>\n",
       "    <tr>\n",
       "      <th>5</th>\n",
       "      <td>Urban</td>\n",
       "      <td>3</td>\n",
       "      <td>0</td>\n",
       "      <td>0</td>\n",
       "    </tr>\n",
       "    <tr>\n",
       "      <th>6</th>\n",
       "      <td>Urban</td>\n",
       "      <td>3</td>\n",
       "      <td>0</td>\n",
       "      <td>0</td>\n",
       "    </tr>\n",
       "    <tr>\n",
       "      <th>7</th>\n",
       "      <td>Urban</td>\n",
       "      <td>1</td>\n",
       "      <td>0</td>\n",
       "      <td>0</td>\n",
       "    </tr>\n",
       "    <tr>\n",
       "      <th>8</th>\n",
       "      <td>Urban</td>\n",
       "      <td>1</td>\n",
       "      <td>0</td>\n",
       "      <td>0</td>\n",
       "    </tr>\n",
       "    <tr>\n",
       "      <th>9</th>\n",
       "      <td>Urban</td>\n",
       "      <td>4</td>\n",
       "      <td>0</td>\n",
       "      <td>0</td>\n",
       "    </tr>\n",
       "    <tr>\n",
       "      <th>10</th>\n",
       "      <td>Urban</td>\n",
       "      <td>1</td>\n",
       "      <td>0</td>\n",
       "      <td>0</td>\n",
       "    </tr>\n",
       "    <tr>\n",
       "      <th>11</th>\n",
       "      <td>Urban</td>\n",
       "      <td>4</td>\n",
       "      <td>0</td>\n",
       "      <td>0</td>\n",
       "    </tr>\n",
       "    <tr>\n",
       "      <th>12</th>\n",
       "      <td>Urban</td>\n",
       "      <td>3</td>\n",
       "      <td>0</td>\n",
       "      <td>0</td>\n",
       "    </tr>\n",
       "    <tr>\n",
       "      <th>13</th>\n",
       "      <td>Urban</td>\n",
       "      <td>2</td>\n",
       "      <td>0</td>\n",
       "      <td>0</td>\n",
       "    </tr>\n",
       "    <tr>\n",
       "      <th>14</th>\n",
       "      <td>Urban</td>\n",
       "      <td>2</td>\n",
       "      <td>0</td>\n",
       "      <td>0</td>\n",
       "    </tr>\n",
       "    <tr>\n",
       "      <th>15</th>\n",
       "      <td>Urban</td>\n",
       "      <td>3</td>\n",
       "      <td>0</td>\n",
       "      <td>0</td>\n",
       "    </tr>\n",
       "    <tr>\n",
       "      <th>16</th>\n",
       "      <td>Urban</td>\n",
       "      <td>1</td>\n",
       "      <td>0</td>\n",
       "      <td>0</td>\n",
       "    </tr>\n",
       "    <tr>\n",
       "      <th>17</th>\n",
       "      <td>Rural</td>\n",
       "      <td>3</td>\n",
       "      <td>0</td>\n",
       "      <td>0</td>\n",
       "    </tr>\n",
       "    <tr>\n",
       "      <th>18</th>\n",
       "      <td>Urban</td>\n",
       "      <td>2</td>\n",
       "      <td>0</td>\n",
       "      <td>0</td>\n",
       "    </tr>\n",
       "    <tr>\n",
       "      <th>19</th>\n",
       "      <td>Urban</td>\n",
       "      <td>4</td>\n",
       "      <td>0</td>\n",
       "      <td>0</td>\n",
       "    </tr>\n",
       "    <tr>\n",
       "      <th>20</th>\n",
       "      <td>Urban</td>\n",
       "      <td>4</td>\n",
       "      <td>1</td>\n",
       "      <td>0</td>\n",
       "    </tr>\n",
       "    <tr>\n",
       "      <th>21</th>\n",
       "      <td>Urban</td>\n",
       "      <td>1</td>\n",
       "      <td>0</td>\n",
       "      <td>0</td>\n",
       "    </tr>\n",
       "    <tr>\n",
       "      <th>22</th>\n",
       "      <td>Urban</td>\n",
       "      <td>4</td>\n",
       "      <td>0</td>\n",
       "      <td>0</td>\n",
       "    </tr>\n",
       "    <tr>\n",
       "      <th>23</th>\n",
       "      <td>Urban</td>\n",
       "      <td>2</td>\n",
       "      <td>0</td>\n",
       "      <td>0</td>\n",
       "    </tr>\n",
       "    <tr>\n",
       "      <th>24</th>\n",
       "      <td>Urban</td>\n",
       "      <td>3</td>\n",
       "      <td>0</td>\n",
       "      <td>1</td>\n",
       "    </tr>\n",
       "    <tr>\n",
       "      <th>25</th>\n",
       "      <td>Urban</td>\n",
       "      <td>4</td>\n",
       "      <td>0</td>\n",
       "      <td>0</td>\n",
       "    </tr>\n",
       "    <tr>\n",
       "      <th>26</th>\n",
       "      <td>Urban</td>\n",
       "      <td>3</td>\n",
       "      <td>0</td>\n",
       "      <td>0</td>\n",
       "    </tr>\n",
       "    <tr>\n",
       "      <th>27</th>\n",
       "      <td>Urban</td>\n",
       "      <td>4</td>\n",
       "      <td>0</td>\n",
       "      <td>0</td>\n",
       "    </tr>\n",
       "    <tr>\n",
       "      <th>28</th>\n",
       "      <td>Urban</td>\n",
       "      <td>3</td>\n",
       "      <td>0</td>\n",
       "      <td>0</td>\n",
       "    </tr>\n",
       "    <tr>\n",
       "      <th>29</th>\n",
       "      <td>Urban</td>\n",
       "      <td>1</td>\n",
       "      <td>0</td>\n",
       "      <td>0</td>\n",
       "    </tr>\n",
       "  </tbody>\n",
       "</table>\n",
       "</div>"
      ],
      "text/plain": [
       "   AccidentArea  DriverRating  FraudFound_P  Peridict_FraudFound_P\n",
       "0         Urban             4             0                      0\n",
       "1         Urban             4             0                      0\n",
       "2         Urban             3             0                      0\n",
       "3         Urban             3             0                      0\n",
       "4         Urban             4             0                      0\n",
       "5         Urban             3             0                      0\n",
       "6         Urban             3             0                      0\n",
       "7         Urban             1             0                      0\n",
       "8         Urban             1             0                      0\n",
       "9         Urban             4             0                      0\n",
       "10        Urban             1             0                      0\n",
       "11        Urban             4             0                      0\n",
       "12        Urban             3             0                      0\n",
       "13        Urban             2             0                      0\n",
       "14        Urban             2             0                      0\n",
       "15        Urban             3             0                      0\n",
       "16        Urban             1             0                      0\n",
       "17        Rural             3             0                      0\n",
       "18        Urban             2             0                      0\n",
       "19        Urban             4             0                      0\n",
       "20        Urban             4             1                      0\n",
       "21        Urban             1             0                      0\n",
       "22        Urban             4             0                      0\n",
       "23        Urban             2             0                      0\n",
       "24        Urban             3             0                      1\n",
       "25        Urban             4             0                      0\n",
       "26        Urban             3             0                      0\n",
       "27        Urban             4             0                      0\n",
       "28        Urban             3             0                      0\n",
       "29        Urban             1             0                      0"
      ]
     },
     "execution_count": 70,
     "metadata": {},
     "output_type": "execute_result"
    }
   ],
   "source": [
    "df_inf_result.loc[:,['AccidentArea', 'DriverRating', 'FraudFound_P', 'Peridict_FraudFound_P']]"
   ]
  }
 ],
 "metadata": {
  "interpreter": {
   "hash": "ef25b1aeedf49b7e4fc6a8fc7fede5a154ceb2d9a1646c4d8508784d46cb5306"
  },
  "kernelspec": {
   "display_name": "Python 3.10.1 64-bit",
   "language": "python",
   "name": "python3"
  },
  "language_info": {
   "codemirror_mode": {
    "name": "ipython",
    "version": 3
   },
   "file_extension": ".py",
   "mimetype": "text/x-python",
   "name": "python",
   "nbconvert_exporter": "python",
   "pygments_lexer": "ipython3",
   "version": "3.10.1"
  },
  "orig_nbformat": 4
 },
 "nbformat": 4,
 "nbformat_minor": 2
}
